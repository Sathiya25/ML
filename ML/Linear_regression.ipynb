{
 "cells": [
  {
   "cell_type": "code",
   "execution_count": 2,
   "id": "laughing-valuable",
   "metadata": {},
   "outputs": [],
   "source": [
    "data <- read.delim(\"G:/Jupyter/R/ML/dataset/bonds.txt\")"
   ]
  },
  {
   "cell_type": "code",
   "execution_count": 3,
   "id": "hybrid-bridges",
   "metadata": {
    "scrolled": true
   },
   "outputs": [
    {
     "data": {
      "text/html": [
       "<table class=\"dataframe\">\n",
       "<caption>A data.frame: 35 × 3</caption>\n",
       "<thead>\n",
       "\t<tr><th scope=col>Case</th><th scope=col>CouponRate</th><th scope=col>BidPrice</th></tr>\n",
       "\t<tr><th scope=col>&lt;int&gt;</th><th scope=col>&lt;dbl&gt;</th><th scope=col>&lt;dbl&gt;</th></tr>\n",
       "</thead>\n",
       "<tbody>\n",
       "\t<tr><td> 1</td><td> 7.000</td><td> 92.94</td></tr>\n",
       "\t<tr><td> 2</td><td> 9.000</td><td>101.44</td></tr>\n",
       "\t<tr><td> 3</td><td> 7.000</td><td> 92.66</td></tr>\n",
       "\t<tr><td> 4</td><td> 4.125</td><td> 94.50</td></tr>\n",
       "\t<tr><td> 5</td><td>13.125</td><td>118.94</td></tr>\n",
       "\t<tr><td> 6</td><td> 8.000</td><td> 96.75</td></tr>\n",
       "\t<tr><td> 7</td><td> 8.750</td><td>100.88</td></tr>\n",
       "\t<tr><td> 8</td><td>12.625</td><td>117.25</td></tr>\n",
       "\t<tr><td> 9</td><td> 9.500</td><td>103.34</td></tr>\n",
       "\t<tr><td>10</td><td>10.125</td><td>106.25</td></tr>\n",
       "\t<tr><td>11</td><td>11.625</td><td>113.19</td></tr>\n",
       "\t<tr><td>12</td><td> 8.625</td><td> 99.44</td></tr>\n",
       "\t<tr><td>13</td><td> 3.000</td><td> 94.50</td></tr>\n",
       "\t<tr><td>14</td><td>10.500</td><td>108.31</td></tr>\n",
       "\t<tr><td>15</td><td>11.250</td><td>111.69</td></tr>\n",
       "\t<tr><td>16</td><td> 8.375</td><td> 98.09</td></tr>\n",
       "\t<tr><td>17</td><td>10.375</td><td>107.91</td></tr>\n",
       "\t<tr><td>18</td><td>11.250</td><td>111.97</td></tr>\n",
       "\t<tr><td>19</td><td>12.625</td><td>119.06</td></tr>\n",
       "\t<tr><td>20</td><td> 8.875</td><td>100.38</td></tr>\n",
       "\t<tr><td>21</td><td>10.500</td><td>108.50</td></tr>\n",
       "\t<tr><td>22</td><td> 8.625</td><td> 99.25</td></tr>\n",
       "\t<tr><td>23</td><td> 9.500</td><td>103.63</td></tr>\n",
       "\t<tr><td>24</td><td>11.500</td><td>114.03</td></tr>\n",
       "\t<tr><td>25</td><td> 8.875</td><td>100.38</td></tr>\n",
       "\t<tr><td>26</td><td> 7.375</td><td> 92.06</td></tr>\n",
       "\t<tr><td>27</td><td> 7.250</td><td> 90.88</td></tr>\n",
       "\t<tr><td>28</td><td> 8.625</td><td> 98.41</td></tr>\n",
       "\t<tr><td>29</td><td> 8.500</td><td> 97.75</td></tr>\n",
       "\t<tr><td>30</td><td> 8.875</td><td> 99.88</td></tr>\n",
       "\t<tr><td>31</td><td> 8.125</td><td> 95.16</td></tr>\n",
       "\t<tr><td>32</td><td> 9.000</td><td>100.66</td></tr>\n",
       "\t<tr><td>33</td><td> 9.250</td><td>102.31</td></tr>\n",
       "\t<tr><td>34</td><td> 7.000</td><td> 88.00</td></tr>\n",
       "\t<tr><td>35</td><td> 3.500</td><td> 94.53</td></tr>\n",
       "</tbody>\n",
       "</table>\n"
      ],
      "text/latex": [
       "A data.frame: 35 × 3\n",
       "\\begin{tabular}{lll}\n",
       " Case & CouponRate & BidPrice\\\\\n",
       " <int> & <dbl> & <dbl>\\\\\n",
       "\\hline\n",
       "\t  1 &  7.000 &  92.94\\\\\n",
       "\t  2 &  9.000 & 101.44\\\\\n",
       "\t  3 &  7.000 &  92.66\\\\\n",
       "\t  4 &  4.125 &  94.50\\\\\n",
       "\t  5 & 13.125 & 118.94\\\\\n",
       "\t  6 &  8.000 &  96.75\\\\\n",
       "\t  7 &  8.750 & 100.88\\\\\n",
       "\t  8 & 12.625 & 117.25\\\\\n",
       "\t  9 &  9.500 & 103.34\\\\\n",
       "\t 10 & 10.125 & 106.25\\\\\n",
       "\t 11 & 11.625 & 113.19\\\\\n",
       "\t 12 &  8.625 &  99.44\\\\\n",
       "\t 13 &  3.000 &  94.50\\\\\n",
       "\t 14 & 10.500 & 108.31\\\\\n",
       "\t 15 & 11.250 & 111.69\\\\\n",
       "\t 16 &  8.375 &  98.09\\\\\n",
       "\t 17 & 10.375 & 107.91\\\\\n",
       "\t 18 & 11.250 & 111.97\\\\\n",
       "\t 19 & 12.625 & 119.06\\\\\n",
       "\t 20 &  8.875 & 100.38\\\\\n",
       "\t 21 & 10.500 & 108.50\\\\\n",
       "\t 22 &  8.625 &  99.25\\\\\n",
       "\t 23 &  9.500 & 103.63\\\\\n",
       "\t 24 & 11.500 & 114.03\\\\\n",
       "\t 25 &  8.875 & 100.38\\\\\n",
       "\t 26 &  7.375 &  92.06\\\\\n",
       "\t 27 &  7.250 &  90.88\\\\\n",
       "\t 28 &  8.625 &  98.41\\\\\n",
       "\t 29 &  8.500 &  97.75\\\\\n",
       "\t 30 &  8.875 &  99.88\\\\\n",
       "\t 31 &  8.125 &  95.16\\\\\n",
       "\t 32 &  9.000 & 100.66\\\\\n",
       "\t 33 &  9.250 & 102.31\\\\\n",
       "\t 34 &  7.000 &  88.00\\\\\n",
       "\t 35 &  3.500 &  94.53\\\\\n",
       "\\end{tabular}\n"
      ],
      "text/markdown": [
       "\n",
       "A data.frame: 35 × 3\n",
       "\n",
       "| Case &lt;int&gt; | CouponRate &lt;dbl&gt; | BidPrice &lt;dbl&gt; |\n",
       "|---|---|---|\n",
       "|  1 |  7.000 |  92.94 |\n",
       "|  2 |  9.000 | 101.44 |\n",
       "|  3 |  7.000 |  92.66 |\n",
       "|  4 |  4.125 |  94.50 |\n",
       "|  5 | 13.125 | 118.94 |\n",
       "|  6 |  8.000 |  96.75 |\n",
       "|  7 |  8.750 | 100.88 |\n",
       "|  8 | 12.625 | 117.25 |\n",
       "|  9 |  9.500 | 103.34 |\n",
       "| 10 | 10.125 | 106.25 |\n",
       "| 11 | 11.625 | 113.19 |\n",
       "| 12 |  8.625 |  99.44 |\n",
       "| 13 |  3.000 |  94.50 |\n",
       "| 14 | 10.500 | 108.31 |\n",
       "| 15 | 11.250 | 111.69 |\n",
       "| 16 |  8.375 |  98.09 |\n",
       "| 17 | 10.375 | 107.91 |\n",
       "| 18 | 11.250 | 111.97 |\n",
       "| 19 | 12.625 | 119.06 |\n",
       "| 20 |  8.875 | 100.38 |\n",
       "| 21 | 10.500 | 108.50 |\n",
       "| 22 |  8.625 |  99.25 |\n",
       "| 23 |  9.500 | 103.63 |\n",
       "| 24 | 11.500 | 114.03 |\n",
       "| 25 |  8.875 | 100.38 |\n",
       "| 26 |  7.375 |  92.06 |\n",
       "| 27 |  7.250 |  90.88 |\n",
       "| 28 |  8.625 |  98.41 |\n",
       "| 29 |  8.500 |  97.75 |\n",
       "| 30 |  8.875 |  99.88 |\n",
       "| 31 |  8.125 |  95.16 |\n",
       "| 32 |  9.000 | 100.66 |\n",
       "| 33 |  9.250 | 102.31 |\n",
       "| 34 |  7.000 |  88.00 |\n",
       "| 35 |  3.500 |  94.53 |\n",
       "\n"
      ],
      "text/plain": [
       "   Case CouponRate BidPrice\n",
       "1   1    7.000      92.94  \n",
       "2   2    9.000     101.44  \n",
       "3   3    7.000      92.66  \n",
       "4   4    4.125      94.50  \n",
       "5   5   13.125     118.94  \n",
       "6   6    8.000      96.75  \n",
       "7   7    8.750     100.88  \n",
       "8   8   12.625     117.25  \n",
       "9   9    9.500     103.34  \n",
       "10 10   10.125     106.25  \n",
       "11 11   11.625     113.19  \n",
       "12 12    8.625      99.44  \n",
       "13 13    3.000      94.50  \n",
       "14 14   10.500     108.31  \n",
       "15 15   11.250     111.69  \n",
       "16 16    8.375      98.09  \n",
       "17 17   10.375     107.91  \n",
       "18 18   11.250     111.97  \n",
       "19 19   12.625     119.06  \n",
       "20 20    8.875     100.38  \n",
       "21 21   10.500     108.50  \n",
       "22 22    8.625      99.25  \n",
       "23 23    9.500     103.63  \n",
       "24 24   11.500     114.03  \n",
       "25 25    8.875     100.38  \n",
       "26 26    7.375      92.06  \n",
       "27 27    7.250      90.88  \n",
       "28 28    8.625      98.41  \n",
       "29 29    8.500      97.75  \n",
       "30 30    8.875      99.88  \n",
       "31 31    8.125      95.16  \n",
       "32 32    9.000     100.66  \n",
       "33 33    9.250     102.31  \n",
       "34 34    7.000      88.00  \n",
       "35 35    3.500      94.53  "
      ]
     },
     "metadata": {},
     "output_type": "display_data"
    }
   ],
   "source": [
    "data"
   ]
  },
  {
   "cell_type": "code",
   "execution_count": 9,
   "id": "renewable-gilbert",
   "metadata": {
    "scrolled": true
   },
   "outputs": [
    {
     "data": {
      "text/html": [
       "<table class=\"dataframe\">\n",
       "<caption>A data.frame: 35 × 2</caption>\n",
       "<thead>\n",
       "\t<tr><th scope=col>CouponRate</th><th scope=col>BidPrice</th></tr>\n",
       "\t<tr><th scope=col>&lt;dbl&gt;</th><th scope=col>&lt;dbl&gt;</th></tr>\n",
       "</thead>\n",
       "<tbody>\n",
       "\t<tr><td> 7.000</td><td> 92.94</td></tr>\n",
       "\t<tr><td> 9.000</td><td>101.44</td></tr>\n",
       "\t<tr><td> 7.000</td><td> 92.66</td></tr>\n",
       "\t<tr><td> 4.125</td><td> 94.50</td></tr>\n",
       "\t<tr><td>13.125</td><td>118.94</td></tr>\n",
       "\t<tr><td> 8.000</td><td> 96.75</td></tr>\n",
       "\t<tr><td> 8.750</td><td>100.88</td></tr>\n",
       "\t<tr><td>12.625</td><td>117.25</td></tr>\n",
       "\t<tr><td> 9.500</td><td>103.34</td></tr>\n",
       "\t<tr><td>10.125</td><td>106.25</td></tr>\n",
       "\t<tr><td>11.625</td><td>113.19</td></tr>\n",
       "\t<tr><td> 8.625</td><td> 99.44</td></tr>\n",
       "\t<tr><td> 3.000</td><td> 94.50</td></tr>\n",
       "\t<tr><td>10.500</td><td>108.31</td></tr>\n",
       "\t<tr><td>11.250</td><td>111.69</td></tr>\n",
       "\t<tr><td> 8.375</td><td> 98.09</td></tr>\n",
       "\t<tr><td>10.375</td><td>107.91</td></tr>\n",
       "\t<tr><td>11.250</td><td>111.97</td></tr>\n",
       "\t<tr><td>12.625</td><td>119.06</td></tr>\n",
       "\t<tr><td> 8.875</td><td>100.38</td></tr>\n",
       "\t<tr><td>10.500</td><td>108.50</td></tr>\n",
       "\t<tr><td> 8.625</td><td> 99.25</td></tr>\n",
       "\t<tr><td> 9.500</td><td>103.63</td></tr>\n",
       "\t<tr><td>11.500</td><td>114.03</td></tr>\n",
       "\t<tr><td> 8.875</td><td>100.38</td></tr>\n",
       "\t<tr><td> 7.375</td><td> 92.06</td></tr>\n",
       "\t<tr><td> 7.250</td><td> 90.88</td></tr>\n",
       "\t<tr><td> 8.625</td><td> 98.41</td></tr>\n",
       "\t<tr><td> 8.500</td><td> 97.75</td></tr>\n",
       "\t<tr><td> 8.875</td><td> 99.88</td></tr>\n",
       "\t<tr><td> 8.125</td><td> 95.16</td></tr>\n",
       "\t<tr><td> 9.000</td><td>100.66</td></tr>\n",
       "\t<tr><td> 9.250</td><td>102.31</td></tr>\n",
       "\t<tr><td> 7.000</td><td> 88.00</td></tr>\n",
       "\t<tr><td> 3.500</td><td> 94.53</td></tr>\n",
       "</tbody>\n",
       "</table>\n"
      ],
      "text/latex": [
       "A data.frame: 35 × 2\n",
       "\\begin{tabular}{ll}\n",
       " CouponRate & BidPrice\\\\\n",
       " <dbl> & <dbl>\\\\\n",
       "\\hline\n",
       "\t  7.000 &  92.94\\\\\n",
       "\t  9.000 & 101.44\\\\\n",
       "\t  7.000 &  92.66\\\\\n",
       "\t  4.125 &  94.50\\\\\n",
       "\t 13.125 & 118.94\\\\\n",
       "\t  8.000 &  96.75\\\\\n",
       "\t  8.750 & 100.88\\\\\n",
       "\t 12.625 & 117.25\\\\\n",
       "\t  9.500 & 103.34\\\\\n",
       "\t 10.125 & 106.25\\\\\n",
       "\t 11.625 & 113.19\\\\\n",
       "\t  8.625 &  99.44\\\\\n",
       "\t  3.000 &  94.50\\\\\n",
       "\t 10.500 & 108.31\\\\\n",
       "\t 11.250 & 111.69\\\\\n",
       "\t  8.375 &  98.09\\\\\n",
       "\t 10.375 & 107.91\\\\\n",
       "\t 11.250 & 111.97\\\\\n",
       "\t 12.625 & 119.06\\\\\n",
       "\t  8.875 & 100.38\\\\\n",
       "\t 10.500 & 108.50\\\\\n",
       "\t  8.625 &  99.25\\\\\n",
       "\t  9.500 & 103.63\\\\\n",
       "\t 11.500 & 114.03\\\\\n",
       "\t  8.875 & 100.38\\\\\n",
       "\t  7.375 &  92.06\\\\\n",
       "\t  7.250 &  90.88\\\\\n",
       "\t  8.625 &  98.41\\\\\n",
       "\t  8.500 &  97.75\\\\\n",
       "\t  8.875 &  99.88\\\\\n",
       "\t  8.125 &  95.16\\\\\n",
       "\t  9.000 & 100.66\\\\\n",
       "\t  9.250 & 102.31\\\\\n",
       "\t  7.000 &  88.00\\\\\n",
       "\t  3.500 &  94.53\\\\\n",
       "\\end{tabular}\n"
      ],
      "text/markdown": [
       "\n",
       "A data.frame: 35 × 2\n",
       "\n",
       "| CouponRate &lt;dbl&gt; | BidPrice &lt;dbl&gt; |\n",
       "|---|---|\n",
       "|  7.000 |  92.94 |\n",
       "|  9.000 | 101.44 |\n",
       "|  7.000 |  92.66 |\n",
       "|  4.125 |  94.50 |\n",
       "| 13.125 | 118.94 |\n",
       "|  8.000 |  96.75 |\n",
       "|  8.750 | 100.88 |\n",
       "| 12.625 | 117.25 |\n",
       "|  9.500 | 103.34 |\n",
       "| 10.125 | 106.25 |\n",
       "| 11.625 | 113.19 |\n",
       "|  8.625 |  99.44 |\n",
       "|  3.000 |  94.50 |\n",
       "| 10.500 | 108.31 |\n",
       "| 11.250 | 111.69 |\n",
       "|  8.375 |  98.09 |\n",
       "| 10.375 | 107.91 |\n",
       "| 11.250 | 111.97 |\n",
       "| 12.625 | 119.06 |\n",
       "|  8.875 | 100.38 |\n",
       "| 10.500 | 108.50 |\n",
       "|  8.625 |  99.25 |\n",
       "|  9.500 | 103.63 |\n",
       "| 11.500 | 114.03 |\n",
       "|  8.875 | 100.38 |\n",
       "|  7.375 |  92.06 |\n",
       "|  7.250 |  90.88 |\n",
       "|  8.625 |  98.41 |\n",
       "|  8.500 |  97.75 |\n",
       "|  8.875 |  99.88 |\n",
       "|  8.125 |  95.16 |\n",
       "|  9.000 | 100.66 |\n",
       "|  9.250 | 102.31 |\n",
       "|  7.000 |  88.00 |\n",
       "|  3.500 |  94.53 |\n",
       "\n"
      ],
      "text/plain": [
       "   CouponRate BidPrice\n",
       "1   7.000      92.94  \n",
       "2   9.000     101.44  \n",
       "3   7.000      92.66  \n",
       "4   4.125      94.50  \n",
       "5  13.125     118.94  \n",
       "6   8.000      96.75  \n",
       "7   8.750     100.88  \n",
       "8  12.625     117.25  \n",
       "9   9.500     103.34  \n",
       "10 10.125     106.25  \n",
       "11 11.625     113.19  \n",
       "12  8.625      99.44  \n",
       "13  3.000      94.50  \n",
       "14 10.500     108.31  \n",
       "15 11.250     111.69  \n",
       "16  8.375      98.09  \n",
       "17 10.375     107.91  \n",
       "18 11.250     111.97  \n",
       "19 12.625     119.06  \n",
       "20  8.875     100.38  \n",
       "21 10.500     108.50  \n",
       "22  8.625      99.25  \n",
       "23  9.500     103.63  \n",
       "24 11.500     114.03  \n",
       "25  8.875     100.38  \n",
       "26  7.375      92.06  \n",
       "27  7.250      90.88  \n",
       "28  8.625      98.41  \n",
       "29  8.500      97.75  \n",
       "30  8.875      99.88  \n",
       "31  8.125      95.16  \n",
       "32  9.000     100.66  \n",
       "33  9.250     102.31  \n",
       "34  7.000      88.00  \n",
       "35  3.500      94.53  "
      ]
     },
     "metadata": {},
     "output_type": "display_data"
    }
   ],
   "source": [
    "#to remove First Column only\n",
    "data <- data[,-1]\n",
    "#or\n",
    "#data <- data[,c(2,3)]\n",
    "data"
   ]
  },
  {
   "cell_type": "code",
   "execution_count": 10,
   "id": "silver-window",
   "metadata": {
    "scrolled": false
   },
   "outputs": [
    {
     "name": "stdout",
     "output_type": "stream",
     "text": [
      "'data.frame':\t35 obs. of  2 variables:\n",
      " $ CouponRate: num  7 9 7 4.12 13.12 ...\n",
      " $ BidPrice  : num  92.9 101.4 92.7 94.5 118.9 ...\n"
     ]
    }
   ],
   "source": [
    "str(data)"
   ]
  },
  {
   "cell_type": "markdown",
   "id": "plastic-savings",
   "metadata": {},
   "source": [
    "### plotting with independent in X and Dependent on Y"
   ]
  },
  {
   "cell_type": "code",
   "execution_count": 11,
   "id": "fifty-anniversary",
   "metadata": {},
   "outputs": [
    {
     "name": "stderr",
     "output_type": "stream",
     "text": [
      "-- \u001b[1mAttaching packages\u001b[22m --------------------------------------- tidyverse 1.3.0 --\n",
      "\n",
      "\u001b[32mv\u001b[39m \u001b[34mggplot2\u001b[39m 3.3.3     \u001b[32mv\u001b[39m \u001b[34mpurrr  \u001b[39m 0.3.4\n",
      "\u001b[32mv\u001b[39m \u001b[34mtibble \u001b[39m 3.0.3     \u001b[32mv\u001b[39m \u001b[34mdplyr  \u001b[39m 1.0.4\n",
      "\u001b[32mv\u001b[39m \u001b[34mtidyr  \u001b[39m 1.1.1     \u001b[32mv\u001b[39m \u001b[34mstringr\u001b[39m 1.4.0\n",
      "\u001b[32mv\u001b[39m \u001b[34mreadr  \u001b[39m 1.4.0     \u001b[32mv\u001b[39m \u001b[34mforcats\u001b[39m 0.5.1\n",
      "\n",
      "-- \u001b[1mConflicts\u001b[22m ------------------------------------------ tidyverse_conflicts() --\n",
      "\u001b[31mx\u001b[39m \u001b[34mdplyr\u001b[39m::\u001b[32mfilter()\u001b[39m masks \u001b[34mstats\u001b[39m::filter()\n",
      "\u001b[31mx\u001b[39m \u001b[34mdplyr\u001b[39m::\u001b[32mlag()\u001b[39m    masks \u001b[34mstats\u001b[39m::lag()\n",
      "\n"
     ]
    }
   ],
   "source": [
    "\n",
    "library(tidyverse)"
   ]
  },
  {
   "cell_type": "code",
   "execution_count": 13,
   "id": "included-harbor",
   "metadata": {
    "scrolled": false
   },
   "outputs": [
    {
     "data": {
      "image/png": "[encoded data removed]",
      "text/plain": [
       "Plot with title \"CouponRate Vs BidPrice\""
      ]
     },
     "metadata": {
      "image/png": {
       "height": 420,
       "width": 420
      }
     },
     "output_type": "display_data"
    }
   ],
   "source": [
    "plot(data$CouponRate, data$BidPrice,\n",
    "             main = \"CouponRate Vs BidPrice\",\n",
    "             xlab = \"CouponRate\", ylab = \"BidPrice\")"
   ]
  },
  {
   "cell_type": "code",
   "execution_count": 18,
   "id": "moderate-navigator",
   "metadata": {},
   "outputs": [],
   "source": [
    "regressor <- lm(data$BidPrice ~ data$CouponRate)\n",
    "#or\n",
    "#regressor <- lm(CoponRate ~ BidPrice, data)"
   ]
  },
  {
   "cell_type": "code",
   "execution_count": 19,
   "id": "flying-pilot",
   "metadata": {},
   "outputs": [
    {
     "data": {
      "text/plain": [
       "\n",
       "Call:\n",
       "lm(formula = data$BidPrice ~ data$CouponRate)\n",
       "\n",
       "Residuals:\n",
       "   Min     1Q Median     3Q    Max \n",
       "-8.249 -2.470 -0.838  2.550 10.515 \n",
       "\n",
       "Coefficients:\n",
       "                Estimate Std. Error t value Pr(>|t|)    \n",
       "(Intercept)      74.7866     2.8267  26.458  < 2e-16 ***\n",
       "data$CouponRate   3.0661     0.3068   9.994 1.64e-11 ***\n",
       "---\n",
       "Signif. codes:  0 '***' 0.001 '**' 0.01 '*' 0.05 '.' 0.1 ' ' 1\n",
       "\n",
       "Residual standard error: 4.175 on 33 degrees of freedom\n",
       "Multiple R-squared:  0.7516,\tAdjusted R-squared:  0.7441 \n",
       "F-statistic: 99.87 on 1 and 33 DF,  p-value: 1.645e-11\n"
      ]
     },
     "metadata": {},
     "output_type": "display_data"
    }
   ],
   "source": [
    "summary(regressor)"
   ]
  },
  {
   "cell_type": "markdown",
   "id": "injured-enough",
   "metadata": {},
   "source": [
    "#### Estimate - Estimate of Slope and Intercept Parameter\n",
    "#### Std. error - Estimated Standard deviation  for the slope and intercept\n",
    "#### t value - Ratio of Estimate and std.error (i.e. Estimate/ std.error)\n",
    "#### Pr - Probablity of seeing 't' random variable will be greator than observed t\n"
   ]
  },
  {
   "cell_type": "code",
   "execution_count": 22,
   "id": "reported-stamp",
   "metadata": {},
   "outputs": [],
   "source": [
    "?abline\n",
    "\n",
    "#abline(a = NULL, b = NULL, h = NULL, v = NULL, reg = NULL,\n",
    "#       coef = NULL, untf = FALSE, ...)\n",
    "\n",
    "# a, b  \t the intercept and slope, single values."
   ]
  },
  {
   "cell_type": "code",
   "execution_count": 23,
   "id": "psychological-preview",
   "metadata": {},
   "outputs": [
    {
     "ename": "ERROR",
     "evalue": "Error in int_abline(a = a, b = b, h = h, v = v, untf = untf, ...): plot.new has not been called yet\n",
     "output_type": "error",
     "traceback": [
      "Error in int_abline(a = a, b = b, h = h, v = v, untf = untf, ...): plot.new has not been called yet\nTraceback:\n",
      "1. abline(regressor)",
      "2. int_abline(a = a, b = b, h = h, v = v, untf = untf, ...)"
     ]
    }
   ],
   "source": [
    "abline(regressor)"
   ]
  }
 ],
 "metadata": {
  "kernelspec": {
   "display_name": "R",
   "language": "R",
   "name": "ir"
  },
  "language_info": {
   "codemirror_mode": "r",
   "file_extension": ".r",
   "mimetype": "text/x-r-source",
   "name": "R",
   "pygments_lexer": "r",
   "version": "4.0.5"
  }
 },
 "nbformat": 4,
 "nbformat_minor": 5
}
