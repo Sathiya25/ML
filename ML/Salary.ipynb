{
 "cells": [
  {
   "cell_type": "code",
   "execution_count": 4,
   "id": "2c062b35",
   "metadata": {},
   "outputs": [],
   "source": [
    "setwd('E:/Dataset')"
   ]
  },
  {
   "cell_type": "code",
   "execution_count": 6,
   "id": "0a58fc80",
   "metadata": {},
   "outputs": [
    {
     "data": {
      "text/html": [
       "'E:/Dataset'"
      ],
      "text/latex": [
       "'E:/Dataset'"
      ],
      "text/markdown": [
       "'E:/Dataset'"
      ],
      "text/plain": [
       "[1] \"E:/Dataset\""
      ]
     },
     "metadata": {},
     "output_type": "display_data"
    }
   ],
   "source": [
    "getwd()"
   ]
  },
  {
   "cell_type": "code",
   "execution_count": 10,
   "id": "0acaeb91",
   "metadata": {},
   "outputs": [],
   "source": [
    "data  <- read.csv('Salary.csv')"
   ]
  },
  {
   "cell_type": "code",
   "execution_count": 11,
   "id": "d2a06aae",
   "metadata": {
    "scrolled": true
   },
   "outputs": [
    {
     "data": {
      "text/html": [
       "<table class=\"dataframe\">\n",
       "<caption>A data.frame: 35 × 2</caption>\n",
       "<thead>\n",
       "\t<tr><th scope=col>YearsExperience</th><th scope=col>Salary</th></tr>\n",
       "\t<tr><th scope=col>&lt;dbl&gt;</th><th scope=col>&lt;int&gt;</th></tr>\n",
       "</thead>\n",
       "<tbody>\n",
       "\t<tr><td> 1.1</td><td> 39343</td></tr>\n",
       "\t<tr><td> 1.3</td><td> 46205</td></tr>\n",
       "\t<tr><td> 1.5</td><td> 37731</td></tr>\n",
       "\t<tr><td> 2.0</td><td> 43525</td></tr>\n",
       "\t<tr><td> 2.2</td><td> 39891</td></tr>\n",
       "\t<tr><td> 2.9</td><td> 56642</td></tr>\n",
       "\t<tr><td> 3.0</td><td> 60150</td></tr>\n",
       "\t<tr><td> 3.2</td><td> 54445</td></tr>\n",
       "\t<tr><td> 3.2</td><td> 64445</td></tr>\n",
       "\t<tr><td> 3.7</td><td> 57189</td></tr>\n",
       "\t<tr><td> 3.9</td><td> 63218</td></tr>\n",
       "\t<tr><td> 4.0</td><td> 55794</td></tr>\n",
       "\t<tr><td> 4.0</td><td> 56957</td></tr>\n",
       "\t<tr><td> 4.1</td><td> 57081</td></tr>\n",
       "\t<tr><td> 4.5</td><td> 61111</td></tr>\n",
       "\t<tr><td> 4.9</td><td> 67938</td></tr>\n",
       "\t<tr><td> 5.1</td><td> 66029</td></tr>\n",
       "\t<tr><td> 5.3</td><td> 83088</td></tr>\n",
       "\t<tr><td> 5.9</td><td> 81363</td></tr>\n",
       "\t<tr><td> 6.0</td><td> 93940</td></tr>\n",
       "\t<tr><td> 6.8</td><td> 91738</td></tr>\n",
       "\t<tr><td> 7.1</td><td> 98273</td></tr>\n",
       "\t<tr><td> 7.9</td><td>101302</td></tr>\n",
       "\t<tr><td> 8.2</td><td>113812</td></tr>\n",
       "\t<tr><td> 8.7</td><td>109431</td></tr>\n",
       "\t<tr><td> 9.0</td><td>105582</td></tr>\n",
       "\t<tr><td> 9.5</td><td>116969</td></tr>\n",
       "\t<tr><td> 9.6</td><td>112635</td></tr>\n",
       "\t<tr><td>10.3</td><td>122391</td></tr>\n",
       "\t<tr><td>10.5</td><td>121872</td></tr>\n",
       "\t<tr><td>11.2</td><td>127345</td></tr>\n",
       "\t<tr><td>11.5</td><td>126756</td></tr>\n",
       "\t<tr><td>12.3</td><td>128765</td></tr>\n",
       "\t<tr><td>12.9</td><td>135675</td></tr>\n",
       "\t<tr><td>13.5</td><td>139465</td></tr>\n",
       "</tbody>\n",
       "</table>\n"
      ],
      "text/latex": [
       "A data.frame: 35 × 2\n",
       "\\begin{tabular}{ll}\n",
       " YearsExperience & Salary\\\\\n",
       " <dbl> & <int>\\\\\n",
       "\\hline\n",
       "\t  1.1 &  39343\\\\\n",
       "\t  1.3 &  46205\\\\\n",
       "\t  1.5 &  37731\\\\\n",
       "\t  2.0 &  43525\\\\\n",
       "\t  2.2 &  39891\\\\\n",
       "\t  2.9 &  56642\\\\\n",
       "\t  3.0 &  60150\\\\\n",
       "\t  3.2 &  54445\\\\\n",
       "\t  3.2 &  64445\\\\\n",
       "\t  3.7 &  57189\\\\\n",
       "\t  3.9 &  63218\\\\\n",
       "\t  4.0 &  55794\\\\\n",
       "\t  4.0 &  56957\\\\\n",
       "\t  4.1 &  57081\\\\\n",
       "\t  4.5 &  61111\\\\\n",
       "\t  4.9 &  67938\\\\\n",
       "\t  5.1 &  66029\\\\\n",
       "\t  5.3 &  83088\\\\\n",
       "\t  5.9 &  81363\\\\\n",
       "\t  6.0 &  93940\\\\\n",
       "\t  6.8 &  91738\\\\\n",
       "\t  7.1 &  98273\\\\\n",
       "\t  7.9 & 101302\\\\\n",
       "\t  8.2 & 113812\\\\\n",
       "\t  8.7 & 109431\\\\\n",
       "\t  9.0 & 105582\\\\\n",
       "\t  9.5 & 116969\\\\\n",
       "\t  9.6 & 112635\\\\\n",
       "\t 10.3 & 122391\\\\\n",
       "\t 10.5 & 121872\\\\\n",
       "\t 11.2 & 127345\\\\\n",
       "\t 11.5 & 126756\\\\\n",
       "\t 12.3 & 128765\\\\\n",
       "\t 12.9 & 135675\\\\\n",
       "\t 13.5 & 139465\\\\\n",
       "\\end{tabular}\n"
      ],
      "text/markdown": [
       "\n",
       "A data.frame: 35 × 2\n",
       "\n",
       "| YearsExperience &lt;dbl&gt; | Salary &lt;int&gt; |\n",
       "|---|---|\n",
       "|  1.1 |  39343 |\n",
       "|  1.3 |  46205 |\n",
       "|  1.5 |  37731 |\n",
       "|  2.0 |  43525 |\n",
       "|  2.2 |  39891 |\n",
       "|  2.9 |  56642 |\n",
       "|  3.0 |  60150 |\n",
       "|  3.2 |  54445 |\n",
       "|  3.2 |  64445 |\n",
       "|  3.7 |  57189 |\n",
       "|  3.9 |  63218 |\n",
       "|  4.0 |  55794 |\n",
       "|  4.0 |  56957 |\n",
       "|  4.1 |  57081 |\n",
       "|  4.5 |  61111 |\n",
       "|  4.9 |  67938 |\n",
       "|  5.1 |  66029 |\n",
       "|  5.3 |  83088 |\n",
       "|  5.9 |  81363 |\n",
       "|  6.0 |  93940 |\n",
       "|  6.8 |  91738 |\n",
       "|  7.1 |  98273 |\n",
       "|  7.9 | 101302 |\n",
       "|  8.2 | 113812 |\n",
       "|  8.7 | 109431 |\n",
       "|  9.0 | 105582 |\n",
       "|  9.5 | 116969 |\n",
       "|  9.6 | 112635 |\n",
       "| 10.3 | 122391 |\n",
       "| 10.5 | 121872 |\n",
       "| 11.2 | 127345 |\n",
       "| 11.5 | 126756 |\n",
       "| 12.3 | 128765 |\n",
       "| 12.9 | 135675 |\n",
       "| 13.5 | 139465 |\n",
       "\n"
      ],
      "text/plain": [
       "   YearsExperience Salary\n",
       "1   1.1             39343\n",
       "2   1.3             46205\n",
       "3   1.5             37731\n",
       "4   2.0             43525\n",
       "5   2.2             39891\n",
       "6   2.9             56642\n",
       "7   3.0             60150\n",
       "8   3.2             54445\n",
       "9   3.2             64445\n",
       "10  3.7             57189\n",
       "11  3.9             63218\n",
       "12  4.0             55794\n",
       "13  4.0             56957\n",
       "14  4.1             57081\n",
       "15  4.5             61111\n",
       "16  4.9             67938\n",
       "17  5.1             66029\n",
       "18  5.3             83088\n",
       "19  5.9             81363\n",
       "20  6.0             93940\n",
       "21  6.8             91738\n",
       "22  7.1             98273\n",
       "23  7.9            101302\n",
       "24  8.2            113812\n",
       "25  8.7            109431\n",
       "26  9.0            105582\n",
       "27  9.5            116969\n",
       "28  9.6            112635\n",
       "29 10.3            122391\n",
       "30 10.5            121872\n",
       "31 11.2            127345\n",
       "32 11.5            126756\n",
       "33 12.3            128765\n",
       "34 12.9            135675\n",
       "35 13.5            139465"
      ]
     },
     "metadata": {},
     "output_type": "display_data"
    }
   ],
   "source": [
    "data"
   ]
  },
  {
   "cell_type": "code",
   "execution_count": 22,
   "id": "52d269e8",
   "metadata": {},
   "outputs": [
    {
     "data": {
      "image/png": "[encoded data removed]",
      "text/plain": [
       "plot without title"
      ]
     },
     "metadata": {
      "image/png": {
       "height": 420,
       "width": 420
      }
     },
     "output_type": "display_data"
    }
   ],
   "source": [
    "plot(data)"
   ]
  },
  {
   "cell_type": "code",
   "execution_count": 25,
   "id": "4aa0529d",
   "metadata": {},
   "outputs": [],
   "source": [
    "dataS <- scale(data[,])"
   ]
  },
  {
   "cell_type": "code",
   "execution_count": 26,
   "id": "4121ea63",
   "metadata": {},
   "outputs": [
    {
     "data": {
      "image/png": "[encoded data removed]",
      "text/plain": [
       "plot without title"
      ]
     },
     "metadata": {
      "image/png": {
       "height": 420,
       "width": 420
      }
     },
     "output_type": "display_data"
    }
   ],
   "source": [
    "plot(dataS)"
   ]
  },
  {
   "cell_type": "code",
   "execution_count": 12,
   "id": "89959a95",
   "metadata": {},
   "outputs": [],
   "source": [
    "library('caTools')"
   ]
  },
  {
   "cell_type": "code",
   "execution_count": 13,
   "id": "c776876f",
   "metadata": {},
   "outputs": [],
   "source": [
    "set.seed(1245)"
   ]
  },
  {
   "cell_type": "code",
   "execution_count": 14,
   "id": "f8330c23",
   "metadata": {},
   "outputs": [],
   "source": [
    "dsplit <- sample.split(Y=data$Salary, SplitRatio=3/4)"
   ]
  },
  {
   "cell_type": "code",
   "execution_count": 21,
   "id": "dfa8bade",
   "metadata": {
    "scrolled": true
   },
   "outputs": [
    {
     "data": {
      "text/html": [
       "<table class=\"dataframe\">\n",
       "<caption>A data.frame: 26 × 2</caption>\n",
       "<thead>\n",
       "\t<tr><th></th><th scope=col>YearsExperience</th><th scope=col>Salary</th></tr>\n",
       "\t<tr><th></th><th scope=col>&lt;dbl&gt;</th><th scope=col>&lt;int&gt;</th></tr>\n",
       "</thead>\n",
       "<tbody>\n",
       "\t<tr><th scope=row>1</th><td> 1.1</td><td> 39343</td></tr>\n",
       "\t<tr><th scope=row>3</th><td> 1.5</td><td> 37731</td></tr>\n",
       "\t<tr><th scope=row>5</th><td> 2.2</td><td> 39891</td></tr>\n",
       "\t<tr><th scope=row>6</th><td> 2.9</td><td> 56642</td></tr>\n",
       "\t<tr><th scope=row>7</th><td> 3.0</td><td> 60150</td></tr>\n",
       "\t<tr><th scope=row>8</th><td> 3.2</td><td> 54445</td></tr>\n",
       "\t<tr><th scope=row>9</th><td> 3.2</td><td> 64445</td></tr>\n",
       "\t<tr><th scope=row>10</th><td> 3.7</td><td> 57189</td></tr>\n",
       "\t<tr><th scope=row>11</th><td> 3.9</td><td> 63218</td></tr>\n",
       "\t<tr><th scope=row>12</th><td> 4.0</td><td> 55794</td></tr>\n",
       "\t<tr><th scope=row>13</th><td> 4.0</td><td> 56957</td></tr>\n",
       "\t<tr><th scope=row>14</th><td> 4.1</td><td> 57081</td></tr>\n",
       "\t<tr><th scope=row>17</th><td> 5.1</td><td> 66029</td></tr>\n",
       "\t<tr><th scope=row>18</th><td> 5.3</td><td> 83088</td></tr>\n",
       "\t<tr><th scope=row>19</th><td> 5.9</td><td> 81363</td></tr>\n",
       "\t<tr><th scope=row>21</th><td> 6.8</td><td> 91738</td></tr>\n",
       "\t<tr><th scope=row>22</th><td> 7.1</td><td> 98273</td></tr>\n",
       "\t<tr><th scope=row>23</th><td> 7.9</td><td>101302</td></tr>\n",
       "\t<tr><th scope=row>24</th><td> 8.2</td><td>113812</td></tr>\n",
       "\t<tr><th scope=row>26</th><td> 9.0</td><td>105582</td></tr>\n",
       "\t<tr><th scope=row>27</th><td> 9.5</td><td>116969</td></tr>\n",
       "\t<tr><th scope=row>29</th><td>10.3</td><td>122391</td></tr>\n",
       "\t<tr><th scope=row>30</th><td>10.5</td><td>121872</td></tr>\n",
       "\t<tr><th scope=row>31</th><td>11.2</td><td>127345</td></tr>\n",
       "\t<tr><th scope=row>33</th><td>12.3</td><td>128765</td></tr>\n",
       "\t<tr><th scope=row>35</th><td>13.5</td><td>139465</td></tr>\n",
       "</tbody>\n",
       "</table>\n"
      ],
      "text/latex": [
       "A data.frame: 26 × 2\n",
       "\\begin{tabular}{r|ll}\n",
       "  & YearsExperience & Salary\\\\\n",
       "  & <dbl> & <int>\\\\\n",
       "\\hline\n",
       "\t1 &  1.1 &  39343\\\\\n",
       "\t3 &  1.5 &  37731\\\\\n",
       "\t5 &  2.2 &  39891\\\\\n",
       "\t6 &  2.9 &  56642\\\\\n",
       "\t7 &  3.0 &  60150\\\\\n",
       "\t8 &  3.2 &  54445\\\\\n",
       "\t9 &  3.2 &  64445\\\\\n",
       "\t10 &  3.7 &  57189\\\\\n",
       "\t11 &  3.9 &  63218\\\\\n",
       "\t12 &  4.0 &  55794\\\\\n",
       "\t13 &  4.0 &  56957\\\\\n",
       "\t14 &  4.1 &  57081\\\\\n",
       "\t17 &  5.1 &  66029\\\\\n",
       "\t18 &  5.3 &  83088\\\\\n",
       "\t19 &  5.9 &  81363\\\\\n",
       "\t21 &  6.8 &  91738\\\\\n",
       "\t22 &  7.1 &  98273\\\\\n",
       "\t23 &  7.9 & 101302\\\\\n",
       "\t24 &  8.2 & 113812\\\\\n",
       "\t26 &  9.0 & 105582\\\\\n",
       "\t27 &  9.5 & 116969\\\\\n",
       "\t29 & 10.3 & 122391\\\\\n",
       "\t30 & 10.5 & 121872\\\\\n",
       "\t31 & 11.2 & 127345\\\\\n",
       "\t33 & 12.3 & 128765\\\\\n",
       "\t35 & 13.5 & 139465\\\\\n",
       "\\end{tabular}\n"
      ],
      "text/markdown": [
       "\n",
       "A data.frame: 26 × 2\n",
       "\n",
       "| <!--/--> | YearsExperience &lt;dbl&gt; | Salary &lt;int&gt; |\n",
       "|---|---|---|\n",
       "| 1 |  1.1 |  39343 |\n",
       "| 3 |  1.5 |  37731 |\n",
       "| 5 |  2.2 |  39891 |\n",
       "| 6 |  2.9 |  56642 |\n",
       "| 7 |  3.0 |  60150 |\n",
       "| 8 |  3.2 |  54445 |\n",
       "| 9 |  3.2 |  64445 |\n",
       "| 10 |  3.7 |  57189 |\n",
       "| 11 |  3.9 |  63218 |\n",
       "| 12 |  4.0 |  55794 |\n",
       "| 13 |  4.0 |  56957 |\n",
       "| 14 |  4.1 |  57081 |\n",
       "| 17 |  5.1 |  66029 |\n",
       "| 18 |  5.3 |  83088 |\n",
       "| 19 |  5.9 |  81363 |\n",
       "| 21 |  6.8 |  91738 |\n",
       "| 22 |  7.1 |  98273 |\n",
       "| 23 |  7.9 | 101302 |\n",
       "| 24 |  8.2 | 113812 |\n",
       "| 26 |  9.0 | 105582 |\n",
       "| 27 |  9.5 | 116969 |\n",
       "| 29 | 10.3 | 122391 |\n",
       "| 30 | 10.5 | 121872 |\n",
       "| 31 | 11.2 | 127345 |\n",
       "| 33 | 12.3 | 128765 |\n",
       "| 35 | 13.5 | 139465 |\n",
       "\n"
      ],
      "text/plain": [
       "   YearsExperience Salary\n",
       "1   1.1             39343\n",
       "3   1.5             37731\n",
       "5   2.2             39891\n",
       "6   2.9             56642\n",
       "7   3.0             60150\n",
       "8   3.2             54445\n",
       "9   3.2             64445\n",
       "10  3.7             57189\n",
       "11  3.9             63218\n",
       "12  4.0             55794\n",
       "13  4.0             56957\n",
       "14  4.1             57081\n",
       "17  5.1             66029\n",
       "18  5.3             83088\n",
       "19  5.9             81363\n",
       "21  6.8             91738\n",
       "22  7.1             98273\n",
       "23  7.9            101302\n",
       "24  8.2            113812\n",
       "26  9.0            105582\n",
       "27  9.5            116969\n",
       "29 10.3            122391\n",
       "30 10.5            121872\n",
       "31 11.2            127345\n",
       "33 12.3            128765\n",
       "35 13.5            139465"
      ]
     },
     "metadata": {},
     "output_type": "display_data"
    }
   ],
   "source": [
    "train  <- subset(data,dsplit==TRUE)\n",
    "train"
   ]
  },
  {
   "cell_type": "code",
   "execution_count": 20,
   "id": "27680b48",
   "metadata": {
    "scrolled": true
   },
   "outputs": [
    {
     "data": {
      "text/html": [
       "<table class=\"dataframe\">\n",
       "<caption>A data.frame: 9 × 2</caption>\n",
       "<thead>\n",
       "\t<tr><th></th><th scope=col>YearsExperience</th><th scope=col>Salary</th></tr>\n",
       "\t<tr><th></th><th scope=col>&lt;dbl&gt;</th><th scope=col>&lt;int&gt;</th></tr>\n",
       "</thead>\n",
       "<tbody>\n",
       "\t<tr><th scope=row>2</th><td> 1.3</td><td> 46205</td></tr>\n",
       "\t<tr><th scope=row>4</th><td> 2.0</td><td> 43525</td></tr>\n",
       "\t<tr><th scope=row>15</th><td> 4.5</td><td> 61111</td></tr>\n",
       "\t<tr><th scope=row>16</th><td> 4.9</td><td> 67938</td></tr>\n",
       "\t<tr><th scope=row>20</th><td> 6.0</td><td> 93940</td></tr>\n",
       "\t<tr><th scope=row>25</th><td> 8.7</td><td>109431</td></tr>\n",
       "\t<tr><th scope=row>28</th><td> 9.6</td><td>112635</td></tr>\n",
       "\t<tr><th scope=row>32</th><td>11.5</td><td>126756</td></tr>\n",
       "\t<tr><th scope=row>34</th><td>12.9</td><td>135675</td></tr>\n",
       "</tbody>\n",
       "</table>\n"
      ],
      "text/latex": [
       "A data.frame: 9 × 2\n",
       "\\begin{tabular}{r|ll}\n",
       "  & YearsExperience & Salary\\\\\n",
       "  & <dbl> & <int>\\\\\n",
       "\\hline\n",
       "\t2 &  1.3 &  46205\\\\\n",
       "\t4 &  2.0 &  43525\\\\\n",
       "\t15 &  4.5 &  61111\\\\\n",
       "\t16 &  4.9 &  67938\\\\\n",
       "\t20 &  6.0 &  93940\\\\\n",
       "\t25 &  8.7 & 109431\\\\\n",
       "\t28 &  9.6 & 112635\\\\\n",
       "\t32 & 11.5 & 126756\\\\\n",
       "\t34 & 12.9 & 135675\\\\\n",
       "\\end{tabular}\n"
      ],
      "text/markdown": [
       "\n",
       "A data.frame: 9 × 2\n",
       "\n",
       "| <!--/--> | YearsExperience &lt;dbl&gt; | Salary &lt;int&gt; |\n",
       "|---|---|---|\n",
       "| 2 |  1.3 |  46205 |\n",
       "| 4 |  2.0 |  43525 |\n",
       "| 15 |  4.5 |  61111 |\n",
       "| 16 |  4.9 |  67938 |\n",
       "| 20 |  6.0 |  93940 |\n",
       "| 25 |  8.7 | 109431 |\n",
       "| 28 |  9.6 | 112635 |\n",
       "| 32 | 11.5 | 126756 |\n",
       "| 34 | 12.9 | 135675 |\n",
       "\n"
      ],
      "text/plain": [
       "   YearsExperience Salary\n",
       "2   1.3             46205\n",
       "4   2.0             43525\n",
       "15  4.5             61111\n",
       "16  4.9             67938\n",
       "20  6.0             93940\n",
       "25  8.7            109431\n",
       "28  9.6            112635\n",
       "32 11.5            126756\n",
       "34 12.9            135675"
      ]
     },
     "metadata": {},
     "output_type": "display_data"
    }
   ],
   "source": [
    "test <- subset(data,dsplit==FALSE)\n",
    "test"
   ]
  },
  {
   "cell_type": "code",
   "execution_count": 29,
   "id": "601aebbe",
   "metadata": {},
   "outputs": [],
   "source": [
    "reg <- lm(formula = Salary~YearsExperience, data = train)"
   ]
  },
  {
   "cell_type": "code",
   "execution_count": 32,
   "id": "2344902a",
   "metadata": {},
   "outputs": [
    {
     "data": {
      "text/plain": [
       "\n",
       "Call:\n",
       "lm(formula = Salary ~ YearsExperience, data = train)\n",
       "\n",
       "Residuals:\n",
       "    Min      1Q  Median      3Q     Max \n",
       "-8332.6 -5748.8   713.3  3406.8 13104.6 \n",
       "\n",
       "Coefficients:\n",
       "                Estimate Std. Error t value Pr(>|t|)    \n",
       "(Intercept)      27926.8     2437.2   11.46 3.23e-11 ***\n",
       "YearsExperience   8875.7      346.6   25.61  < 2e-16 ***\n",
       "---\n",
       "Signif. codes:  0 '***' 0.001 '**' 0.01 '*' 0.05 '.' 0.1 ' ' 1\n",
       "\n",
       "Residual standard error: 6087 on 24 degrees of freedom\n",
       "Multiple R-squared:  0.9647,\tAdjusted R-squared:  0.9632 \n",
       "F-statistic: 655.8 on 1 and 24 DF,  p-value: < 2.2e-16\n"
      ]
     },
     "metadata": {},
     "output_type": "display_data"
    }
   ],
   "source": [
    "summary(reg)"
   ]
  },
  {
   "cell_type": "code",
   "execution_count": 31,
   "id": "b06e774e",
   "metadata": {},
   "outputs": [
    {
     "data": {
      "text/html": [
       "<style>\n",
       ".dl-inline {width: auto; margin:0; padding: 0}\n",
       ".dl-inline>dt, .dl-inline>dd {float: none; width: auto; display: inline-block}\n",
       ".dl-inline>dt::after {content: \":\\0020\"; padding-right: .5ex}\n",
       ".dl-inline>dt:not(:first-of-type) {padding-left: .5ex}\n",
       "</style><dl class=dl-inline><dt>2</dt><dd>39465.190794232</dd><dt>4</dt><dd>45678.1647396538</dd><dt>15</dt><dd>67867.3574018745</dd><dt>16</dt><dd>71417.6282278298</dd><dt>20</dt><dd>81180.8729992069</dd><dt>25</dt><dd>105145.201074405</dd><dt>28</dt><dd>113133.310432805</dd><dt>32</dt><dd>129997.096856093</dd><dt>34</dt><dd>142423.044746936</dd></dl>\n"
      ],
      "text/latex": [
       "\\begin{description*}\n",
       "\\item[2] 39465.190794232\n",
       "\\item[4] 45678.1647396538\n",
       "\\item[15] 67867.3574018745\n",
       "\\item[16] 71417.6282278298\n",
       "\\item[20] 81180.8729992069\n",
       "\\item[25] 105145.201074405\n",
       "\\item[28] 113133.310432805\n",
       "\\item[32] 129997.096856093\n",
       "\\item[34] 142423.044746936\n",
       "\\end{description*}\n"
      ],
      "text/markdown": [
       "2\n",
       ":   39465.1907942324\n",
       ":   45678.164739653815\n",
       ":   67867.357401874516\n",
       ":   71417.628227829820\n",
       ":   81180.872999206925\n",
       ":   105145.20107440528\n",
       ":   113133.31043280532\n",
       ":   129997.09685609334\n",
       ":   142423.044746936\n",
       "\n"
      ],
      "text/plain": [
       "        2         4        15        16        20        25        28        32 \n",
       " 39465.19  45678.16  67867.36  71417.63  81180.87 105145.20 113133.31 129997.10 \n",
       "       34 \n",
       "142423.04 "
      ]
     },
     "metadata": {},
     "output_type": "display_data"
    }
   ],
   "source": [
    "predict(reg,newdata=test)"
   ]
  }
 ],
 "metadata": {
  "kernelspec": {
   "display_name": "R",
   "language": "R",
   "name": "ir"
  },
  "language_info": {
   "codemirror_mode": "r",
   "file_extension": ".r",
   "mimetype": "text/x-r-source",
   "name": "R",
   "pygments_lexer": "r",
   "version": "4.0.5"
  }
 },
 "nbformat": 4,
 "nbformat_minor": 5
}
