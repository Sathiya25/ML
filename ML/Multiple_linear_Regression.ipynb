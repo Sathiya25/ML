{
 "cells": [
  {
   "cell_type": "markdown",
   "id": "engaged-intranet",
   "metadata": {},
   "source": [
    "# Multiple Linear Regression"
   ]
  },
  {
   "cell_type": "code",
   "execution_count": 16,
   "id": "baking-native",
   "metadata": {
    "scrolled": true
   },
   "outputs": [
    {
     "data": {
      "text/html": [
       "<table class=\"dataframe\">\n",
       "<caption>A data.frame: 50 × 5</caption>\n",
       "<thead>\n",
       "\t<tr><th scope=col>R.D.Spend</th><th scope=col>Administration</th><th scope=col>Marketing.Spend</th><th scope=col>State</th><th scope=col>Profit</th></tr>\n",
       "\t<tr><th scope=col>&lt;dbl&gt;</th><th scope=col>&lt;dbl&gt;</th><th scope=col>&lt;dbl&gt;</th><th scope=col>&lt;chr&gt;</th><th scope=col>&lt;dbl&gt;</th></tr>\n",
       "</thead>\n",
       "<tbody>\n",
       "\t<tr><td>165349.20</td><td>136897.80</td><td>471784.10</td><td>New York  </td><td>192261.83</td></tr>\n",
       "\t<tr><td>162597.70</td><td>151377.59</td><td>443898.53</td><td>California</td><td>191792.06</td></tr>\n",
       "\t<tr><td>153441.51</td><td>101145.55</td><td>407934.54</td><td>Florida   </td><td>191050.39</td></tr>\n",
       "\t<tr><td>144372.41</td><td>118671.85</td><td>383199.62</td><td>New York  </td><td>182901.99</td></tr>\n",
       "\t<tr><td>142107.34</td><td> 91391.77</td><td>366168.42</td><td>Florida   </td><td>166187.94</td></tr>\n",
       "\t<tr><td>131876.90</td><td> 99814.71</td><td>362861.36</td><td>New York  </td><td>156991.12</td></tr>\n",
       "\t<tr><td>134615.46</td><td>147198.87</td><td>127716.82</td><td>California</td><td>156122.51</td></tr>\n",
       "\t<tr><td>130298.13</td><td>145530.06</td><td>323876.68</td><td>Florida   </td><td>155752.60</td></tr>\n",
       "\t<tr><td>120542.52</td><td>148718.95</td><td>311613.29</td><td>New York  </td><td>152211.77</td></tr>\n",
       "\t<tr><td>123334.88</td><td>108679.17</td><td>304981.62</td><td>California</td><td>149759.96</td></tr>\n",
       "\t<tr><td>101913.08</td><td>110594.11</td><td>229160.95</td><td>Florida   </td><td>146121.95</td></tr>\n",
       "\t<tr><td>100671.96</td><td> 91790.61</td><td>249744.55</td><td>California</td><td>144259.40</td></tr>\n",
       "\t<tr><td> 93863.75</td><td>127320.38</td><td>249839.44</td><td>Florida   </td><td>141585.52</td></tr>\n",
       "\t<tr><td> 91992.39</td><td>135495.07</td><td>252664.93</td><td>California</td><td>134307.35</td></tr>\n",
       "\t<tr><td>119943.24</td><td>156547.42</td><td>256512.92</td><td>Florida   </td><td>132602.65</td></tr>\n",
       "\t<tr><td>114523.61</td><td>122616.84</td><td>261776.23</td><td>New York  </td><td>129917.04</td></tr>\n",
       "\t<tr><td> 78013.11</td><td>121597.55</td><td>264346.06</td><td>California</td><td>126992.93</td></tr>\n",
       "\t<tr><td> 94657.16</td><td>145077.58</td><td>282574.31</td><td>New York  </td><td>125370.37</td></tr>\n",
       "\t<tr><td> 91749.16</td><td>114175.79</td><td>294919.57</td><td>Florida   </td><td>124266.90</td></tr>\n",
       "\t<tr><td> 86419.70</td><td>153514.11</td><td>     0.00</td><td>New York  </td><td>122776.86</td></tr>\n",
       "\t<tr><td> 76253.86</td><td>113867.30</td><td>298664.47</td><td>California</td><td>118474.03</td></tr>\n",
       "\t<tr><td> 78389.47</td><td>153773.43</td><td>299737.29</td><td>New York  </td><td>111313.02</td></tr>\n",
       "\t<tr><td> 73994.56</td><td>122782.75</td><td>303319.26</td><td>Florida   </td><td>110352.25</td></tr>\n",
       "\t<tr><td> 67532.53</td><td>105751.03</td><td>304768.73</td><td>Florida   </td><td>108733.99</td></tr>\n",
       "\t<tr><td> 77044.01</td><td> 99281.34</td><td>140574.81</td><td>New York  </td><td>108552.04</td></tr>\n",
       "\t<tr><td> 64664.71</td><td>139553.16</td><td>137962.62</td><td>California</td><td>107404.34</td></tr>\n",
       "\t<tr><td> 75328.87</td><td>144135.98</td><td>134050.07</td><td>Florida   </td><td>105733.54</td></tr>\n",
       "\t<tr><td> 72107.60</td><td>127864.55</td><td>353183.81</td><td>New York  </td><td>105008.31</td></tr>\n",
       "\t<tr><td> 66051.52</td><td>182645.56</td><td>118148.20</td><td>Florida   </td><td>103282.38</td></tr>\n",
       "\t<tr><td> 65605.48</td><td>153032.06</td><td>107138.38</td><td>New York  </td><td>101004.64</td></tr>\n",
       "\t<tr><td> 61994.48</td><td>115641.28</td><td> 91131.24</td><td>Florida   </td><td> 99937.59</td></tr>\n",
       "\t<tr><td> 61136.38</td><td>152701.92</td><td> 88218.23</td><td>New York  </td><td> 97483.56</td></tr>\n",
       "\t<tr><td> 63408.86</td><td>129219.61</td><td> 46085.25</td><td>California</td><td> 97427.84</td></tr>\n",
       "\t<tr><td> 55493.95</td><td>103057.49</td><td>214634.81</td><td>Florida   </td><td> 96778.92</td></tr>\n",
       "\t<tr><td> 46426.07</td><td>157693.92</td><td>210797.67</td><td>California</td><td> 96712.80</td></tr>\n",
       "\t<tr><td> 46014.02</td><td> 85047.44</td><td>205517.64</td><td>New York  </td><td> 96479.51</td></tr>\n",
       "\t<tr><td> 28663.76</td><td>127056.21</td><td>201126.82</td><td>Florida   </td><td> 90708.19</td></tr>\n",
       "\t<tr><td> 44069.95</td><td> 51283.14</td><td>197029.42</td><td>California</td><td> 89949.14</td></tr>\n",
       "\t<tr><td> 20229.59</td><td> 65947.93</td><td>185265.10</td><td>New York  </td><td> 81229.06</td></tr>\n",
       "\t<tr><td> 38558.51</td><td> 82982.09</td><td>174999.30</td><td>California</td><td> 81005.76</td></tr>\n",
       "\t<tr><td> 28754.33</td><td>118546.05</td><td>172795.67</td><td>California</td><td> 78239.91</td></tr>\n",
       "\t<tr><td> 27892.92</td><td> 84710.77</td><td>164470.71</td><td>Florida   </td><td> 77798.83</td></tr>\n",
       "\t<tr><td> 23640.93</td><td> 96189.63</td><td>148001.11</td><td>California</td><td> 71498.49</td></tr>\n",
       "\t<tr><td> 15505.73</td><td>127382.30</td><td> 35534.17</td><td>New York  </td><td> 69758.98</td></tr>\n",
       "\t<tr><td> 22177.74</td><td>154806.14</td><td> 28334.72</td><td>California</td><td> 65200.33</td></tr>\n",
       "\t<tr><td>  1000.23</td><td>124153.04</td><td>  1903.93</td><td>New York  </td><td> 64926.08</td></tr>\n",
       "\t<tr><td>  1315.46</td><td>115816.21</td><td>297114.46</td><td>Florida   </td><td> 49490.75</td></tr>\n",
       "\t<tr><td>     0.00</td><td>135426.92</td><td>     0.00</td><td>California</td><td> 42559.73</td></tr>\n",
       "\t<tr><td>   542.05</td><td> 51743.15</td><td>     0.00</td><td>New York  </td><td> 35673.41</td></tr>\n",
       "\t<tr><td>     0.00</td><td>116983.80</td><td> 45173.06</td><td>California</td><td> 14681.40</td></tr>\n",
       "</tbody>\n",
       "</table>\n"
      ],
      "text/latex": [
       "A data.frame: 50 × 5\n",
       "\\begin{tabular}{lllll}\n",
       " R.D.Spend & Administration & Marketing.Spend & State & Profit\\\\\n",
       " <dbl> & <dbl> & <dbl> & <chr> & <dbl>\\\\\n",
       "\\hline\n",
       "\t 165349.20 & 136897.80 & 471784.10 & New York   & 192261.83\\\\\n",
       "\t 162597.70 & 151377.59 & 443898.53 & California & 191792.06\\\\\n",
       "\t 153441.51 & 101145.55 & 407934.54 & Florida    & 191050.39\\\\\n",
       "\t 144372.41 & 118671.85 & 383199.62 & New York   & 182901.99\\\\\n",
       "\t 142107.34 &  91391.77 & 366168.42 & Florida    & 166187.94\\\\\n",
       "\t 131876.90 &  99814.71 & 362861.36 & New York   & 156991.12\\\\\n",
       "\t 134615.46 & 147198.87 & 127716.82 & California & 156122.51\\\\\n",
       "\t 130298.13 & 145530.06 & 323876.68 & Florida    & 155752.60\\\\\n",
       "\t 120542.52 & 148718.95 & 311613.29 & New York   & 152211.77\\\\\n",
       "\t 123334.88 & 108679.17 & 304981.62 & California & 149759.96\\\\\n",
       "\t 101913.08 & 110594.11 & 229160.95 & Florida    & 146121.95\\\\\n",
       "\t 100671.96 &  91790.61 & 249744.55 & California & 144259.40\\\\\n",
       "\t  93863.75 & 127320.38 & 249839.44 & Florida    & 141585.52\\\\\n",
       "\t  91992.39 & 135495.07 & 252664.93 & California & 134307.35\\\\\n",
       "\t 119943.24 & 156547.42 & 256512.92 & Florida    & 132602.65\\\\\n",
       "\t 114523.61 & 122616.84 & 261776.23 & New York   & 129917.04\\\\\n",
       "\t  78013.11 & 121597.55 & 264346.06 & California & 126992.93\\\\\n",
       "\t  94657.16 & 145077.58 & 282574.31 & New York   & 125370.37\\\\\n",
       "\t  91749.16 & 114175.79 & 294919.57 & Florida    & 124266.90\\\\\n",
       "\t  86419.70 & 153514.11 &      0.00 & New York   & 122776.86\\\\\n",
       "\t  76253.86 & 113867.30 & 298664.47 & California & 118474.03\\\\\n",
       "\t  78389.47 & 153773.43 & 299737.29 & New York   & 111313.02\\\\\n",
       "\t  73994.56 & 122782.75 & 303319.26 & Florida    & 110352.25\\\\\n",
       "\t  67532.53 & 105751.03 & 304768.73 & Florida    & 108733.99\\\\\n",
       "\t  77044.01 &  99281.34 & 140574.81 & New York   & 108552.04\\\\\n",
       "\t  64664.71 & 139553.16 & 137962.62 & California & 107404.34\\\\\n",
       "\t  75328.87 & 144135.98 & 134050.07 & Florida    & 105733.54\\\\\n",
       "\t  72107.60 & 127864.55 & 353183.81 & New York   & 105008.31\\\\\n",
       "\t  66051.52 & 182645.56 & 118148.20 & Florida    & 103282.38\\\\\n",
       "\t  65605.48 & 153032.06 & 107138.38 & New York   & 101004.64\\\\\n",
       "\t  61994.48 & 115641.28 &  91131.24 & Florida    &  99937.59\\\\\n",
       "\t  61136.38 & 152701.92 &  88218.23 & New York   &  97483.56\\\\\n",
       "\t  63408.86 & 129219.61 &  46085.25 & California &  97427.84\\\\\n",
       "\t  55493.95 & 103057.49 & 214634.81 & Florida    &  96778.92\\\\\n",
       "\t  46426.07 & 157693.92 & 210797.67 & California &  96712.80\\\\\n",
       "\t  46014.02 &  85047.44 & 205517.64 & New York   &  96479.51\\\\\n",
       "\t  28663.76 & 127056.21 & 201126.82 & Florida    &  90708.19\\\\\n",
       "\t  44069.95 &  51283.14 & 197029.42 & California &  89949.14\\\\\n",
       "\t  20229.59 &  65947.93 & 185265.10 & New York   &  81229.06\\\\\n",
       "\t  38558.51 &  82982.09 & 174999.30 & California &  81005.76\\\\\n",
       "\t  28754.33 & 118546.05 & 172795.67 & California &  78239.91\\\\\n",
       "\t  27892.92 &  84710.77 & 164470.71 & Florida    &  77798.83\\\\\n",
       "\t  23640.93 &  96189.63 & 148001.11 & California &  71498.49\\\\\n",
       "\t  15505.73 & 127382.30 &  35534.17 & New York   &  69758.98\\\\\n",
       "\t  22177.74 & 154806.14 &  28334.72 & California &  65200.33\\\\\n",
       "\t   1000.23 & 124153.04 &   1903.93 & New York   &  64926.08\\\\\n",
       "\t   1315.46 & 115816.21 & 297114.46 & Florida    &  49490.75\\\\\n",
       "\t      0.00 & 135426.92 &      0.00 & California &  42559.73\\\\\n",
       "\t    542.05 &  51743.15 &      0.00 & New York   &  35673.41\\\\\n",
       "\t      0.00 & 116983.80 &  45173.06 & California &  14681.40\\\\\n",
       "\\end{tabular}\n"
      ],
      "text/markdown": [
       "\n",
       "A data.frame: 50 × 5\n",
       "\n",
       "| R.D.Spend &lt;dbl&gt; | Administration &lt;dbl&gt; | Marketing.Spend &lt;dbl&gt; | State &lt;chr&gt; | Profit &lt;dbl&gt; |\n",
       "|---|---|---|---|---|\n",
       "| 165349.20 | 136897.80 | 471784.10 | New York   | 192261.83 |\n",
       "| 162597.70 | 151377.59 | 443898.53 | California | 191792.06 |\n",
       "| 153441.51 | 101145.55 | 407934.54 | Florida    | 191050.39 |\n",
       "| 144372.41 | 118671.85 | 383199.62 | New York   | 182901.99 |\n",
       "| 142107.34 |  91391.77 | 366168.42 | Florida    | 166187.94 |\n",
       "| 131876.90 |  99814.71 | 362861.36 | New York   | 156991.12 |\n",
       "| 134615.46 | 147198.87 | 127716.82 | California | 156122.51 |\n",
       "| 130298.13 | 145530.06 | 323876.68 | Florida    | 155752.60 |\n",
       "| 120542.52 | 148718.95 | 311613.29 | New York   | 152211.77 |\n",
       "| 123334.88 | 108679.17 | 304981.62 | California | 149759.96 |\n",
       "| 101913.08 | 110594.11 | 229160.95 | Florida    | 146121.95 |\n",
       "| 100671.96 |  91790.61 | 249744.55 | California | 144259.40 |\n",
       "|  93863.75 | 127320.38 | 249839.44 | Florida    | 141585.52 |\n",
       "|  91992.39 | 135495.07 | 252664.93 | California | 134307.35 |\n",
       "| 119943.24 | 156547.42 | 256512.92 | Florida    | 132602.65 |\n",
       "| 114523.61 | 122616.84 | 261776.23 | New York   | 129917.04 |\n",
       "|  78013.11 | 121597.55 | 264346.06 | California | 126992.93 |\n",
       "|  94657.16 | 145077.58 | 282574.31 | New York   | 125370.37 |\n",
       "|  91749.16 | 114175.79 | 294919.57 | Florida    | 124266.90 |\n",
       "|  86419.70 | 153514.11 |      0.00 | New York   | 122776.86 |\n",
       "|  76253.86 | 113867.30 | 298664.47 | California | 118474.03 |\n",
       "|  78389.47 | 153773.43 | 299737.29 | New York   | 111313.02 |\n",
       "|  73994.56 | 122782.75 | 303319.26 | Florida    | 110352.25 |\n",
       "|  67532.53 | 105751.03 | 304768.73 | Florida    | 108733.99 |\n",
       "|  77044.01 |  99281.34 | 140574.81 | New York   | 108552.04 |\n",
       "|  64664.71 | 139553.16 | 137962.62 | California | 107404.34 |\n",
       "|  75328.87 | 144135.98 | 134050.07 | Florida    | 105733.54 |\n",
       "|  72107.60 | 127864.55 | 353183.81 | New York   | 105008.31 |\n",
       "|  66051.52 | 182645.56 | 118148.20 | Florida    | 103282.38 |\n",
       "|  65605.48 | 153032.06 | 107138.38 | New York   | 101004.64 |\n",
       "|  61994.48 | 115641.28 |  91131.24 | Florida    |  99937.59 |\n",
       "|  61136.38 | 152701.92 |  88218.23 | New York   |  97483.56 |\n",
       "|  63408.86 | 129219.61 |  46085.25 | California |  97427.84 |\n",
       "|  55493.95 | 103057.49 | 214634.81 | Florida    |  96778.92 |\n",
       "|  46426.07 | 157693.92 | 210797.67 | California |  96712.80 |\n",
       "|  46014.02 |  85047.44 | 205517.64 | New York   |  96479.51 |\n",
       "|  28663.76 | 127056.21 | 201126.82 | Florida    |  90708.19 |\n",
       "|  44069.95 |  51283.14 | 197029.42 | California |  89949.14 |\n",
       "|  20229.59 |  65947.93 | 185265.10 | New York   |  81229.06 |\n",
       "|  38558.51 |  82982.09 | 174999.30 | California |  81005.76 |\n",
       "|  28754.33 | 118546.05 | 172795.67 | California |  78239.91 |\n",
       "|  27892.92 |  84710.77 | 164470.71 | Florida    |  77798.83 |\n",
       "|  23640.93 |  96189.63 | 148001.11 | California |  71498.49 |\n",
       "|  15505.73 | 127382.30 |  35534.17 | New York   |  69758.98 |\n",
       "|  22177.74 | 154806.14 |  28334.72 | California |  65200.33 |\n",
       "|   1000.23 | 124153.04 |   1903.93 | New York   |  64926.08 |\n",
       "|   1315.46 | 115816.21 | 297114.46 | Florida    |  49490.75 |\n",
       "|      0.00 | 135426.92 |      0.00 | California |  42559.73 |\n",
       "|    542.05 |  51743.15 |      0.00 | New York   |  35673.41 |\n",
       "|      0.00 | 116983.80 |  45173.06 | California |  14681.40 |\n",
       "\n"
      ],
      "text/plain": [
       "   R.D.Spend Administration Marketing.Spend State      Profit   \n",
       "1  165349.20 136897.80      471784.10       New York   192261.83\n",
       "2  162597.70 151377.59      443898.53       California 191792.06\n",
       "3  153441.51 101145.55      407934.54       Florida    191050.39\n",
       "4  144372.41 118671.85      383199.62       New York   182901.99\n",
       "5  142107.34  91391.77      366168.42       Florida    166187.94\n",
       "6  131876.90  99814.71      362861.36       New York   156991.12\n",
       "7  134615.46 147198.87      127716.82       California 156122.51\n",
       "8  130298.13 145530.06      323876.68       Florida    155752.60\n",
       "9  120542.52 148718.95      311613.29       New York   152211.77\n",
       "10 123334.88 108679.17      304981.62       California 149759.96\n",
       "11 101913.08 110594.11      229160.95       Florida    146121.95\n",
       "12 100671.96  91790.61      249744.55       California 144259.40\n",
       "13  93863.75 127320.38      249839.44       Florida    141585.52\n",
       "14  91992.39 135495.07      252664.93       California 134307.35\n",
       "15 119943.24 156547.42      256512.92       Florida    132602.65\n",
       "16 114523.61 122616.84      261776.23       New York   129917.04\n",
       "17  78013.11 121597.55      264346.06       California 126992.93\n",
       "18  94657.16 145077.58      282574.31       New York   125370.37\n",
       "19  91749.16 114175.79      294919.57       Florida    124266.90\n",
       "20  86419.70 153514.11           0.00       New York   122776.86\n",
       "21  76253.86 113867.30      298664.47       California 118474.03\n",
       "22  78389.47 153773.43      299737.29       New York   111313.02\n",
       "23  73994.56 122782.75      303319.26       Florida    110352.25\n",
       "24  67532.53 105751.03      304768.73       Florida    108733.99\n",
       "25  77044.01  99281.34      140574.81       New York   108552.04\n",
       "26  64664.71 139553.16      137962.62       California 107404.34\n",
       "27  75328.87 144135.98      134050.07       Florida    105733.54\n",
       "28  72107.60 127864.55      353183.81       New York   105008.31\n",
       "29  66051.52 182645.56      118148.20       Florida    103282.38\n",
       "30  65605.48 153032.06      107138.38       New York   101004.64\n",
       "31  61994.48 115641.28       91131.24       Florida     99937.59\n",
       "32  61136.38 152701.92       88218.23       New York    97483.56\n",
       "33  63408.86 129219.61       46085.25       California  97427.84\n",
       "34  55493.95 103057.49      214634.81       Florida     96778.92\n",
       "35  46426.07 157693.92      210797.67       California  96712.80\n",
       "36  46014.02  85047.44      205517.64       New York    96479.51\n",
       "37  28663.76 127056.21      201126.82       Florida     90708.19\n",
       "38  44069.95  51283.14      197029.42       California  89949.14\n",
       "39  20229.59  65947.93      185265.10       New York    81229.06\n",
       "40  38558.51  82982.09      174999.30       California  81005.76\n",
       "41  28754.33 118546.05      172795.67       California  78239.91\n",
       "42  27892.92  84710.77      164470.71       Florida     77798.83\n",
       "43  23640.93  96189.63      148001.11       California  71498.49\n",
       "44  15505.73 127382.30       35534.17       New York    69758.98\n",
       "45  22177.74 154806.14       28334.72       California  65200.33\n",
       "46   1000.23 124153.04        1903.93       New York    64926.08\n",
       "47   1315.46 115816.21      297114.46       Florida     49490.75\n",
       "48      0.00 135426.92           0.00       California  42559.73\n",
       "49    542.05  51743.15           0.00       New York    35673.41\n",
       "50      0.00 116983.80       45173.06       California  14681.40"
      ]
     },
     "metadata": {},
     "output_type": "display_data"
    }
   ],
   "source": [
    "data <- read.csv(\"G:/Jupyter/R/ML/dataset/50_Startups.csv\")\n",
    "data"
   ]
  },
  {
   "cell_type": "code",
   "execution_count": 13,
   "id": "ongoing-swing",
   "metadata": {},
   "outputs": [
    {
     "name": "stdout",
     "output_type": "stream",
     "text": [
      "'data.frame':\t50 obs. of  5 variables:\n",
      " $ R.D.Spend      : num  165349 162598 153442 144372 142107 ...\n",
      " $ Administration : num  136898 151378 101146 118672 91392 ...\n",
      " $ Marketing.Spend: num  471784 443899 407935 383200 366168 ...\n",
      " $ State          : chr  \"New York\" \"California\" \"Florida\" \"New York\" ...\n",
      " $ Profit         : num  192262 191792 191050 182902 166188 ...\n"
     ]
    }
   ],
   "source": [
    "str(data)"
   ]
  },
  {
   "cell_type": "markdown",
   "id": "fewer-boost",
   "metadata": {},
   "source": [
    "### to convert a column into  Factor"
   ]
  },
  {
   "cell_type": "code",
   "execution_count": 14,
   "id": "hindu-stevens",
   "metadata": {},
   "outputs": [],
   "source": [
    "#  data$State <- as.factor(data$State)"
   ]
  },
  {
   "cell_type": "code",
   "execution_count": 17,
   "id": "informative-jacob",
   "metadata": {},
   "outputs": [
    {
     "name": "stdout",
     "output_type": "stream",
     "text": [
      "'data.frame':\t50 obs. of  5 variables:\n",
      " $ R.D.Spend      : num  165349 162598 153442 144372 142107 ...\n",
      " $ Administration : num  136898 151378 101146 118672 91392 ...\n",
      " $ Marketing.Spend: num  471784 443899 407935 383200 366168 ...\n",
      " $ State          : chr  \"New York\" \"California\" \"Florida\" \"New York\" ...\n",
      " $ Profit         : num  192262 191792 191050 182902 166188 ...\n"
     ]
    }
   ],
   "source": [
    "str(data)"
   ]
  },
  {
   "cell_type": "markdown",
   "id": "usual-conversion",
   "metadata": {},
   "source": [
    "## OR \n",
    "### we can't go with text Data so we can Encode into Numeric also"
   ]
  },
  {
   "cell_type": "code",
   "execution_count": 18,
   "id": "noble-tuition",
   "metadata": {},
   "outputs": [],
   "source": [
    "#Encoding into numeric value\n",
    "data$State  <- factor(data$State,\n",
    "                     levels = c(\"New York\",\"California\",\"Florida\"),\n",
    "                     labels = c(1:3))"
   ]
  },
  {
   "cell_type": "code",
   "execution_count": 19,
   "id": "dimensional-passing",
   "metadata": {},
   "outputs": [
    {
     "name": "stdout",
     "output_type": "stream",
     "text": [
      "'data.frame':\t50 obs. of  5 variables:\n",
      " $ R.D.Spend      : num  165349 162598 153442 144372 142107 ...\n",
      " $ Administration : num  136898 151378 101146 118672 91392 ...\n",
      " $ Marketing.Spend: num  471784 443899 407935 383200 366168 ...\n",
      " $ State          : Factor w/ 3 levels \"1\",\"2\",\"3\": 1 2 3 1 3 1 2 3 1 2 ...\n",
      " $ Profit         : num  192262 191792 191050 182902 166188 ...\n"
     ]
    }
   ],
   "source": [
    "str(data)"
   ]
  },
  {
   "cell_type": "markdown",
   "id": "defensive-milwaukee",
   "metadata": {},
   "source": [
    "### Splitting"
   ]
  },
  {
   "cell_type": "code",
   "execution_count": 22,
   "id": "tribal-floor",
   "metadata": {},
   "outputs": [],
   "source": [
    "library(caTools)\n",
    "set.seed(1234)\n",
    "split <- sample.split(Y = data$Profit,\n",
    "                      SplitRatio = 0.8)"
   ]
  },
  {
   "cell_type": "code",
   "execution_count": 23,
   "id": "cardiovascular-davis",
   "metadata": {},
   "outputs": [],
   "source": [
    "train_set  <- subset(x = data, split == T)"
   ]
  },
  {
   "cell_type": "code",
   "execution_count": 24,
   "id": "affected-salvation",
   "metadata": {},
   "outputs": [],
   "source": [
    "test_set  <- subset(x = data, split == F)"
   ]
  },
  {
   "cell_type": "markdown",
   "id": "bulgarian-afghanistan",
   "metadata": {},
   "source": [
    "## Model Creation"
   ]
  },
  {
   "cell_type": "code",
   "execution_count": 28,
   "id": "particular-stage",
   "metadata": {},
   "outputs": [
    {
     "data": {
      "text/plain": [
       "\n",
       "Call:\n",
       "lm(formula = Profit ~ R.D.Spend, data = train_set)\n",
       "\n",
       "Residuals:\n",
       "     Min       1Q   Median       3Q      Max \n",
       "-19300.3  -5005.3   -700.6   4407.3  15994.0 \n",
       "\n",
       "Coefficients:\n",
       "             Estimate Std. Error t value Pr(>|t|)    \n",
       "(Intercept) 5.048e+04  2.386e+03   21.15   <2e-16 ***\n",
       "R.D.Spend   8.456e-01  2.687e-02   31.47   <2e-16 ***\n",
       "---\n",
       "Signif. codes:  0 '***' 0.001 '**' 0.01 '*' 0.05 '.' 0.1 ' ' 1\n",
       "\n",
       "Residual standard error: 7879 on 38 degrees of freedom\n",
       "Multiple R-squared:  0.963,\tAdjusted R-squared:  0.9621 \n",
       "F-statistic: 990.2 on 1 and 38 DF,  p-value: < 2.2e-16\n"
      ]
     },
     "metadata": {},
     "output_type": "display_data"
    }
   ],
   "source": [
    "regressor  <- lm(formula = Profit ~ R.D.Spend,\n",
    "                data = train_set)\n",
    "summary(regressor)"
   ]
  },
  {
   "cell_type": "code",
   "execution_count": 29,
   "id": "appointed-being",
   "metadata": {},
   "outputs": [
    {
     "data": {
      "text/plain": [
       "\n",
       "Call:\n",
       "lm(formula = Profit ~ R.D.Spend + Administration, data = train_set)\n",
       "\n",
       "Residuals:\n",
       "     Min       1Q   Median       3Q      Max \n",
       "-18206.2  -4323.7   -884.1   5025.2  16416.7 \n",
       "\n",
       "Coefficients:\n",
       "                 Estimate Std. Error t value Pr(>|t|)    \n",
       "(Intercept)     5.494e+04  6.057e+03   9.072 6.09e-11 ***\n",
       "R.D.Spend       8.511e-01  2.785e-02  30.562  < 2e-16 ***\n",
       "Administration -3.974e-02  4.945e-02  -0.804    0.427    \n",
       "---\n",
       "Signif. codes:  0 '***' 0.001 '**' 0.01 '*' 0.05 '.' 0.1 ' ' 1\n",
       "\n",
       "Residual standard error: 7916 on 37 degrees of freedom\n",
       "Multiple R-squared:  0.9637,\tAdjusted R-squared:  0.9617 \n",
       "F-statistic: 490.8 on 2 and 37 DF,  p-value: < 2.2e-16\n"
      ]
     },
     "metadata": {},
     "output_type": "display_data"
    }
   ],
   "source": [
    "# to add more than one field we can use \"+\" operator\n",
    "regressor  <- lm(formula = Profit ~ R.D.Spend+Administration,\n",
    "                data = train_set)\n",
    "summary(regressor)"
   ]
  },
  {
   "cell_type": "markdown",
   "id": "racial-gasoline",
   "metadata": {},
   "source": [
    "#### in the above summary we can see that there is no significance in Adninistration"
   ]
  },
  {
   "cell_type": "markdown",
   "id": "continental-jenny",
   "metadata": {},
   "source": [
    "### If we want to add all other columns we can use \".\""
   ]
  },
  {
   "cell_type": "code",
   "execution_count": 30,
   "id": "minute-minister",
   "metadata": {},
   "outputs": [
    {
     "data": {
      "text/plain": [
       "\n",
       "Call:\n",
       "lm(formula = Profit ~ ., data = train_set)\n",
       "\n",
       "Residuals:\n",
       "   Min     1Q Median     3Q    Max \n",
       "-17380  -5011  -1161   5499  15980 \n",
       "\n",
       "Coefficients:\n",
       "                  Estimate Std. Error t value Pr(>|t|)    \n",
       "(Intercept)      4.998e+04  6.819e+03   7.330 1.71e-08 ***\n",
       "R.D.Spend        7.947e-01  4.215e-02  18.855  < 2e-16 ***\n",
       "Administration  -1.518e-02  5.083e-02  -0.299   0.7671    \n",
       "Marketing.Spend  2.749e-02  1.527e-02   1.801   0.0806 .  \n",
       "State2           1.253e+03  3.115e+03   0.402   0.6901    \n",
       "State3           8.865e+00  3.170e+03   0.003   0.9978    \n",
       "---\n",
       "Signif. codes:  0 '***' 0.001 '**' 0.01 '*' 0.05 '.' 0.1 ' ' 1\n",
       "\n",
       "Residual standard error: 7850 on 34 degrees of freedom\n",
       "Multiple R-squared:  0.9672,\tAdjusted R-squared:  0.9623 \n",
       "F-statistic: 200.4 on 5 and 34 DF,  p-value: < 2.2e-16\n"
      ]
     },
     "metadata": {},
     "output_type": "display_data"
    }
   ],
   "source": [
    "regressor  <- lm(formula = Profit ~ .,\n",
    "                data = train_set)\n",
    "summary(regressor)"
   ]
  },
  {
   "cell_type": "code",
   "execution_count": 31,
   "id": "crazy-indiana",
   "metadata": {
    "scrolled": true
   },
   "outputs": [
    {
     "data": {
      "text/html": [
       "<style>\n",
       ".dl-inline {width: auto; margin:0; padding: 0}\n",
       ".dl-inline>dt, .dl-inline>dd {float: none; width: auto; display: inline-block}\n",
       ".dl-inline>dt::after {content: \":\\0020\"; padding-right: .5ex}\n",
       ".dl-inline>dt:not(:first-of-type) {padding-left: .5ex}\n",
       "</style><dl class=dl-inline><dt>5</dt><dd>171599.352184976</dd><dt>14</dt><dd>129228.678666052</dd><dt>16</dt><dd>146326.682310061</dd><dt>26</dt><dd>104297.175849546</dd><dt>28</dt><dd>115053.999711937</dd><dt>29</dt><dd>102956.686830219</dd><dt>36</dt><dd>90908.2602705441</dd><dt>39</dt><dd>70151.4510972797</dd><dt>40</dt><dd>85428.5203884342</dd><dt>50</dt><dd>50702.0597526742</dd></dl>\n"
      ],
      "text/latex": [
       "\\begin{description*}\n",
       "\\item[5] 171599.352184976\n",
       "\\item[14] 129228.678666052\n",
       "\\item[16] 146326.682310061\n",
       "\\item[26] 104297.175849546\n",
       "\\item[28] 115053.999711937\n",
       "\\item[29] 102956.686830219\n",
       "\\item[36] 90908.2602705441\n",
       "\\item[39] 70151.4510972797\n",
       "\\item[40] 85428.5203884342\n",
       "\\item[50] 50702.0597526742\n",
       "\\end{description*}\n"
      ],
      "text/markdown": [
       "5\n",
       ":   171599.35218497614\n",
       ":   129228.67866605216\n",
       ":   146326.68231006126\n",
       ":   104297.17584954628\n",
       ":   115053.99971193729\n",
       ":   102956.68683021936\n",
       ":   90908.260270544139\n",
       ":   70151.451097279740\n",
       ":   85428.520388434250\n",
       ":   50702.0597526742\n",
       "\n"
      ],
      "text/plain": [
       "        5        14        16        26        28        29        36        39 \n",
       "171599.35 129228.68 146326.68 104297.18 115054.00 102956.69  90908.26  70151.45 \n",
       "       40        50 \n",
       " 85428.52  50702.06 "
      ]
     },
     "metadata": {},
     "output_type": "display_data"
    }
   ],
   "source": [
    "predict(regressor, newdata = test_set)"
   ]
  },
  {
   "cell_type": "markdown",
   "id": "victorian-hearts",
   "metadata": {},
   "source": [
    "# EXAMPLE 2 "
   ]
  },
  {
   "cell_type": "code",
   "execution_count": 1,
   "id": "forced-elements",
   "metadata": {
    "scrolled": true
   },
   "outputs": [
    {
     "data": {
      "text/html": [
       "<table class=\"dataframe\">\n",
       "<caption>A data.frame: 168 × 5</caption>\n",
       "<thead>\n",
       "\t<tr><th scope=col>Price</th><th scope=col>Food</th><th scope=col>Decor</th><th scope=col>Service</th><th scope=col>East</th></tr>\n",
       "\t<tr><th scope=col>&lt;int&gt;</th><th scope=col>&lt;int&gt;</th><th scope=col>&lt;int&gt;</th><th scope=col>&lt;int&gt;</th><th scope=col>&lt;int&gt;</th></tr>\n",
       "</thead>\n",
       "<tbody>\n",
       "\t<tr><td>43</td><td>22</td><td>18</td><td>20</td><td>0</td></tr>\n",
       "\t<tr><td>32</td><td>20</td><td>19</td><td>19</td><td>0</td></tr>\n",
       "\t<tr><td>34</td><td>21</td><td>13</td><td>18</td><td>0</td></tr>\n",
       "\t<tr><td>41</td><td>20</td><td>20</td><td>17</td><td>0</td></tr>\n",
       "\t<tr><td>54</td><td>24</td><td>19</td><td>21</td><td>0</td></tr>\n",
       "\t<tr><td>52</td><td>22</td><td>22</td><td>21</td><td>0</td></tr>\n",
       "\t<tr><td>34</td><td>22</td><td>16</td><td>21</td><td>0</td></tr>\n",
       "\t<tr><td>34</td><td>20</td><td>18</td><td>21</td><td>1</td></tr>\n",
       "\t<tr><td>39</td><td>22</td><td>19</td><td>22</td><td>1</td></tr>\n",
       "\t<tr><td>44</td><td>21</td><td>17</td><td>19</td><td>1</td></tr>\n",
       "\t<tr><td>45</td><td>19</td><td>17</td><td>20</td><td>1</td></tr>\n",
       "\t<tr><td>47</td><td>21</td><td>19</td><td>21</td><td>1</td></tr>\n",
       "\t<tr><td>52</td><td>21</td><td>19</td><td>20</td><td>1</td></tr>\n",
       "\t<tr><td>35</td><td>19</td><td>17</td><td>19</td><td>1</td></tr>\n",
       "\t<tr><td>47</td><td>20</td><td>18</td><td>21</td><td>1</td></tr>\n",
       "\t<tr><td>37</td><td>21</td><td>19</td><td>21</td><td>1</td></tr>\n",
       "\t<tr><td>45</td><td>22</td><td>18</td><td>23</td><td>1</td></tr>\n",
       "\t<tr><td>57</td><td>24</td><td>21</td><td>22</td><td>1</td></tr>\n",
       "\t<tr><td>38</td><td>19</td><td>17</td><td>18</td><td>1</td></tr>\n",
       "\t<tr><td>51</td><td>22</td><td>20</td><td>22</td><td>1</td></tr>\n",
       "\t<tr><td>54</td><td>23</td><td>20</td><td>23</td><td>1</td></tr>\n",
       "\t<tr><td>51</td><td>23</td><td>17</td><td>21</td><td>1</td></tr>\n",
       "\t<tr><td>38</td><td>20</td><td>18</td><td>18</td><td>1</td></tr>\n",
       "\t<tr><td>49</td><td>22</td><td>21</td><td>21</td><td>1</td></tr>\n",
       "\t<tr><td>45</td><td>22</td><td>20</td><td>22</td><td>1</td></tr>\n",
       "\t<tr><td>37</td><td>19</td><td>17</td><td>19</td><td>1</td></tr>\n",
       "\t<tr><td>50</td><td>22</td><td>19</td><td>22</td><td>1</td></tr>\n",
       "\t<tr><td>43</td><td>20</td><td>16</td><td>18</td><td>1</td></tr>\n",
       "\t<tr><td>49</td><td>22</td><td>19</td><td>20</td><td>1</td></tr>\n",
       "\t<tr><td>65</td><td>21</td><td>20</td><td>20</td><td>1</td></tr>\n",
       "\t<tr><td>...</td><td>...</td><td>...</td><td>...</td><td>...</td></tr>\n",
       "\t<tr><td>23</td><td>20</td><td>14</td><td>16</td><td>0</td></tr>\n",
       "\t<tr><td>42</td><td>18</td><td>21</td><td>17</td><td>0</td></tr>\n",
       "\t<tr><td>29</td><td>21</td><td>18</td><td>19</td><td>0</td></tr>\n",
       "\t<tr><td>49</td><td>21</td><td>18</td><td>20</td><td>0</td></tr>\n",
       "\t<tr><td>53</td><td>22</td><td>24</td><td>21</td><td>0</td></tr>\n",
       "\t<tr><td>45</td><td>22</td><td>19</td><td>21</td><td>0</td></tr>\n",
       "\t<tr><td>63</td><td>22</td><td>25</td><td>22</td><td>0</td></tr>\n",
       "\t<tr><td>52</td><td>23</td><td>23</td><td>21</td><td>0</td></tr>\n",
       "\t<tr><td>40</td><td>19</td><td>20</td><td>17</td><td>0</td></tr>\n",
       "\t<tr><td>45</td><td>22</td><td>21</td><td>23</td><td>0</td></tr>\n",
       "\t<tr><td>38</td><td>21</td><td>17</td><td>20</td><td>0</td></tr>\n",
       "\t<tr><td>38</td><td>18</td><td>17</td><td>18</td><td>0</td></tr>\n",
       "\t<tr><td>42</td><td>21</td><td>16</td><td>20</td><td>0</td></tr>\n",
       "\t<tr><td>57</td><td>23</td><td>19</td><td>23</td><td>0</td></tr>\n",
       "\t<tr><td>39</td><td>21</td><td>19</td><td>20</td><td>0</td></tr>\n",
       "\t<tr><td>43</td><td>20</td><td>18</td><td>18</td><td>0</td></tr>\n",
       "\t<tr><td>29</td><td>17</td><td>14</td><td>16</td><td>0</td></tr>\n",
       "\t<tr><td>42</td><td>20</td><td>16</td><td>19</td><td>0</td></tr>\n",
       "\t<tr><td>50</td><td>22</td><td>19</td><td>21</td><td>0</td></tr>\n",
       "\t<tr><td>34</td><td>18</td><td>16</td><td>17</td><td>0</td></tr>\n",
       "\t<tr><td>31</td><td>16</td><td>15</td><td>16</td><td>0</td></tr>\n",
       "\t<tr><td>31</td><td>20</td><td>17</td><td>19</td><td>0</td></tr>\n",
       "\t<tr><td>46</td><td>21</td><td>19</td><td>22</td><td>0</td></tr>\n",
       "\t<tr><td>42</td><td>21</td><td>15</td><td>19</td><td>0</td></tr>\n",
       "\t<tr><td>31</td><td>19</td><td>16</td><td>18</td><td>0</td></tr>\n",
       "\t<tr><td>31</td><td>17</td><td>15</td><td>16</td><td>0</td></tr>\n",
       "\t<tr><td>26</td><td>20</td><td>16</td><td>17</td><td>0</td></tr>\n",
       "\t<tr><td>31</td><td>18</td><td>16</td><td>17</td><td>0</td></tr>\n",
       "\t<tr><td>38</td><td>22</td><td>17</td><td>21</td><td>0</td></tr>\n",
       "\t<tr><td>34</td><td>24</td><td>10</td><td>16</td><td>0</td></tr>\n",
       "</tbody>\n",
       "</table>\n"
      ],
      "text/latex": [
       "A data.frame: 168 × 5\n",
       "\\begin{tabular}{lllll}\n",
       " Price & Food & Decor & Service & East\\\\\n",
       " <int> & <int> & <int> & <int> & <int>\\\\\n",
       "\\hline\n",
       "\t 43 & 22 & 18 & 20 & 0\\\\\n",
       "\t 32 & 20 & 19 & 19 & 0\\\\\n",
       "\t 34 & 21 & 13 & 18 & 0\\\\\n",
       "\t 41 & 20 & 20 & 17 & 0\\\\\n",
       "\t 54 & 24 & 19 & 21 & 0\\\\\n",
       "\t 52 & 22 & 22 & 21 & 0\\\\\n",
       "\t 34 & 22 & 16 & 21 & 0\\\\\n",
       "\t 34 & 20 & 18 & 21 & 1\\\\\n",
       "\t 39 & 22 & 19 & 22 & 1\\\\\n",
       "\t 44 & 21 & 17 & 19 & 1\\\\\n",
       "\t 45 & 19 & 17 & 20 & 1\\\\\n",
       "\t 47 & 21 & 19 & 21 & 1\\\\\n",
       "\t 52 & 21 & 19 & 20 & 1\\\\\n",
       "\t 35 & 19 & 17 & 19 & 1\\\\\n",
       "\t 47 & 20 & 18 & 21 & 1\\\\\n",
       "\t 37 & 21 & 19 & 21 & 1\\\\\n",
       "\t 45 & 22 & 18 & 23 & 1\\\\\n",
       "\t 57 & 24 & 21 & 22 & 1\\\\\n",
       "\t 38 & 19 & 17 & 18 & 1\\\\\n",
       "\t 51 & 22 & 20 & 22 & 1\\\\\n",
       "\t 54 & 23 & 20 & 23 & 1\\\\\n",
       "\t 51 & 23 & 17 & 21 & 1\\\\\n",
       "\t 38 & 20 & 18 & 18 & 1\\\\\n",
       "\t 49 & 22 & 21 & 21 & 1\\\\\n",
       "\t 45 & 22 & 20 & 22 & 1\\\\\n",
       "\t 37 & 19 & 17 & 19 & 1\\\\\n",
       "\t 50 & 22 & 19 & 22 & 1\\\\\n",
       "\t 43 & 20 & 16 & 18 & 1\\\\\n",
       "\t 49 & 22 & 19 & 20 & 1\\\\\n",
       "\t 65 & 21 & 20 & 20 & 1\\\\\n",
       "\t ... & ... & ... & ... & ...\\\\\n",
       "\t 23 & 20 & 14 & 16 & 0\\\\\n",
       "\t 42 & 18 & 21 & 17 & 0\\\\\n",
       "\t 29 & 21 & 18 & 19 & 0\\\\\n",
       "\t 49 & 21 & 18 & 20 & 0\\\\\n",
       "\t 53 & 22 & 24 & 21 & 0\\\\\n",
       "\t 45 & 22 & 19 & 21 & 0\\\\\n",
       "\t 63 & 22 & 25 & 22 & 0\\\\\n",
       "\t 52 & 23 & 23 & 21 & 0\\\\\n",
       "\t 40 & 19 & 20 & 17 & 0\\\\\n",
       "\t 45 & 22 & 21 & 23 & 0\\\\\n",
       "\t 38 & 21 & 17 & 20 & 0\\\\\n",
       "\t 38 & 18 & 17 & 18 & 0\\\\\n",
       "\t 42 & 21 & 16 & 20 & 0\\\\\n",
       "\t 57 & 23 & 19 & 23 & 0\\\\\n",
       "\t 39 & 21 & 19 & 20 & 0\\\\\n",
       "\t 43 & 20 & 18 & 18 & 0\\\\\n",
       "\t 29 & 17 & 14 & 16 & 0\\\\\n",
       "\t 42 & 20 & 16 & 19 & 0\\\\\n",
       "\t 50 & 22 & 19 & 21 & 0\\\\\n",
       "\t 34 & 18 & 16 & 17 & 0\\\\\n",
       "\t 31 & 16 & 15 & 16 & 0\\\\\n",
       "\t 31 & 20 & 17 & 19 & 0\\\\\n",
       "\t 46 & 21 & 19 & 22 & 0\\\\\n",
       "\t 42 & 21 & 15 & 19 & 0\\\\\n",
       "\t 31 & 19 & 16 & 18 & 0\\\\\n",
       "\t 31 & 17 & 15 & 16 & 0\\\\\n",
       "\t 26 & 20 & 16 & 17 & 0\\\\\n",
       "\t 31 & 18 & 16 & 17 & 0\\\\\n",
       "\t 38 & 22 & 17 & 21 & 0\\\\\n",
       "\t 34 & 24 & 10 & 16 & 0\\\\\n",
       "\\end{tabular}\n"
      ],
      "text/markdown": [
       "\n",
       "A data.frame: 168 × 5\n",
       "\n",
       "| Price &lt;int&gt; | Food &lt;int&gt; | Decor &lt;int&gt; | Service &lt;int&gt; | East &lt;int&gt; |\n",
       "|---|---|---|---|---|\n",
       "| 43 | 22 | 18 | 20 | 0 |\n",
       "| 32 | 20 | 19 | 19 | 0 |\n",
       "| 34 | 21 | 13 | 18 | 0 |\n",
       "| 41 | 20 | 20 | 17 | 0 |\n",
       "| 54 | 24 | 19 | 21 | 0 |\n",
       "| 52 | 22 | 22 | 21 | 0 |\n",
       "| 34 | 22 | 16 | 21 | 0 |\n",
       "| 34 | 20 | 18 | 21 | 1 |\n",
       "| 39 | 22 | 19 | 22 | 1 |\n",
       "| 44 | 21 | 17 | 19 | 1 |\n",
       "| 45 | 19 | 17 | 20 | 1 |\n",
       "| 47 | 21 | 19 | 21 | 1 |\n",
       "| 52 | 21 | 19 | 20 | 1 |\n",
       "| 35 | 19 | 17 | 19 | 1 |\n",
       "| 47 | 20 | 18 | 21 | 1 |\n",
       "| 37 | 21 | 19 | 21 | 1 |\n",
       "| 45 | 22 | 18 | 23 | 1 |\n",
       "| 57 | 24 | 21 | 22 | 1 |\n",
       "| 38 | 19 | 17 | 18 | 1 |\n",
       "| 51 | 22 | 20 | 22 | 1 |\n",
       "| 54 | 23 | 20 | 23 | 1 |\n",
       "| 51 | 23 | 17 | 21 | 1 |\n",
       "| 38 | 20 | 18 | 18 | 1 |\n",
       "| 49 | 22 | 21 | 21 | 1 |\n",
       "| 45 | 22 | 20 | 22 | 1 |\n",
       "| 37 | 19 | 17 | 19 | 1 |\n",
       "| 50 | 22 | 19 | 22 | 1 |\n",
       "| 43 | 20 | 16 | 18 | 1 |\n",
       "| 49 | 22 | 19 | 20 | 1 |\n",
       "| 65 | 21 | 20 | 20 | 1 |\n",
       "| ... | ... | ... | ... | ... |\n",
       "| 23 | 20 | 14 | 16 | 0 |\n",
       "| 42 | 18 | 21 | 17 | 0 |\n",
       "| 29 | 21 | 18 | 19 | 0 |\n",
       "| 49 | 21 | 18 | 20 | 0 |\n",
       "| 53 | 22 | 24 | 21 | 0 |\n",
       "| 45 | 22 | 19 | 21 | 0 |\n",
       "| 63 | 22 | 25 | 22 | 0 |\n",
       "| 52 | 23 | 23 | 21 | 0 |\n",
       "| 40 | 19 | 20 | 17 | 0 |\n",
       "| 45 | 22 | 21 | 23 | 0 |\n",
       "| 38 | 21 | 17 | 20 | 0 |\n",
       "| 38 | 18 | 17 | 18 | 0 |\n",
       "| 42 | 21 | 16 | 20 | 0 |\n",
       "| 57 | 23 | 19 | 23 | 0 |\n",
       "| 39 | 21 | 19 | 20 | 0 |\n",
       "| 43 | 20 | 18 | 18 | 0 |\n",
       "| 29 | 17 | 14 | 16 | 0 |\n",
       "| 42 | 20 | 16 | 19 | 0 |\n",
       "| 50 | 22 | 19 | 21 | 0 |\n",
       "| 34 | 18 | 16 | 17 | 0 |\n",
       "| 31 | 16 | 15 | 16 | 0 |\n",
       "| 31 | 20 | 17 | 19 | 0 |\n",
       "| 46 | 21 | 19 | 22 | 0 |\n",
       "| 42 | 21 | 15 | 19 | 0 |\n",
       "| 31 | 19 | 16 | 18 | 0 |\n",
       "| 31 | 17 | 15 | 16 | 0 |\n",
       "| 26 | 20 | 16 | 17 | 0 |\n",
       "| 31 | 18 | 16 | 17 | 0 |\n",
       "| 38 | 22 | 17 | 21 | 0 |\n",
       "| 34 | 24 | 10 | 16 | 0 |\n",
       "\n"
      ],
      "text/plain": [
       "    Price Food Decor Service East\n",
       "1   43    22   18    20      0   \n",
       "2   32    20   19    19      0   \n",
       "3   34    21   13    18      0   \n",
       "4   41    20   20    17      0   \n",
       "5   54    24   19    21      0   \n",
       "6   52    22   22    21      0   \n",
       "7   34    22   16    21      0   \n",
       "8   34    20   18    21      1   \n",
       "9   39    22   19    22      1   \n",
       "10  44    21   17    19      1   \n",
       "11  45    19   17    20      1   \n",
       "12  47    21   19    21      1   \n",
       "13  52    21   19    20      1   \n",
       "14  35    19   17    19      1   \n",
       "15  47    20   18    21      1   \n",
       "16  37    21   19    21      1   \n",
       "17  45    22   18    23      1   \n",
       "18  57    24   21    22      1   \n",
       "19  38    19   17    18      1   \n",
       "20  51    22   20    22      1   \n",
       "21  54    23   20    23      1   \n",
       "22  51    23   17    21      1   \n",
       "23  38    20   18    18      1   \n",
       "24  49    22   21    21      1   \n",
       "25  45    22   20    22      1   \n",
       "26  37    19   17    19      1   \n",
       "27  50    22   19    22      1   \n",
       "28  43    20   16    18      1   \n",
       "29  49    22   19    20      1   \n",
       "30  65    21   20    20      1   \n",
       "... ...   ...  ...   ...     ... \n",
       "139 23    20   14    16      0   \n",
       "140 42    18   21    17      0   \n",
       "141 29    21   18    19      0   \n",
       "142 49    21   18    20      0   \n",
       "143 53    22   24    21      0   \n",
       "144 45    22   19    21      0   \n",
       "145 63    22   25    22      0   \n",
       "146 52    23   23    21      0   \n",
       "147 40    19   20    17      0   \n",
       "148 45    22   21    23      0   \n",
       "149 38    21   17    20      0   \n",
       "150 38    18   17    18      0   \n",
       "151 42    21   16    20      0   \n",
       "152 57    23   19    23      0   \n",
       "153 39    21   19    20      0   \n",
       "154 43    20   18    18      0   \n",
       "155 29    17   14    16      0   \n",
       "156 42    20   16    19      0   \n",
       "157 50    22   19    21      0   \n",
       "158 34    18   16    17      0   \n",
       "159 31    16   15    16      0   \n",
       "160 31    20   17    19      0   \n",
       "161 46    21   19    22      0   \n",
       "162 42    21   15    19      0   \n",
       "163 31    19   16    18      0   \n",
       "164 31    17   15    16      0   \n",
       "165 26    20   16    17      0   \n",
       "166 31    18   16    17      0   \n",
       "167 38    22   17    21      0   \n",
       "168 34    24   10    16      0   "
      ]
     },
     "metadata": {},
     "output_type": "display_data"
    }
   ],
   "source": [
    "data <- read.csv(\"G:/Jupyter/R/ML/dataset/nyc.csv\")\n",
    "data"
   ]
  },
  {
   "cell_type": "code",
   "execution_count": 2,
   "id": "flush-ivory",
   "metadata": {},
   "outputs": [
    {
     "data": {
      "image/png": "[encoded data removed]",
      "text/plain": [
       "plot without title"
      ]
     },
     "metadata": {
      "image/png": {
       "height": 420,
       "width": 420
      }
     },
     "output_type": "display_data"
    }
   ],
   "source": [
    "plot(data)"
   ]
  },
  {
   "cell_type": "code",
   "execution_count": 3,
   "id": "uniform-cover",
   "metadata": {},
   "outputs": [
    {
     "data": {
      "text/html": [
       "<table class=\"dataframe\">\n",
       "<caption>A matrix: 5 × 5 of type dbl</caption>\n",
       "<thead>\n",
       "\t<tr><th></th><th scope=col>Price</th><th scope=col>Food</th><th scope=col>Decor</th><th scope=col>Service</th><th scope=col>East</th></tr>\n",
       "</thead>\n",
       "<tbody>\n",
       "\t<tr><th scope=row>Price</th><td>1.000</td><td>0.627</td><td>0.724</td><td>0.641</td><td>0.187</td></tr>\n",
       "\t<tr><th scope=row>Food</th><td>0.627</td><td>1.000</td><td>0.504</td><td>0.795</td><td>0.180</td></tr>\n",
       "\t<tr><th scope=row>Decor</th><td>0.724</td><td>0.504</td><td>1.000</td><td>0.645</td><td>0.036</td></tr>\n",
       "\t<tr><th scope=row>Service</th><td>0.641</td><td>0.795</td><td>0.645</td><td>1.000</td><td>0.209</td></tr>\n",
       "\t<tr><th scope=row>East</th><td>0.187</td><td>0.180</td><td>0.036</td><td>0.209</td><td>1.000</td></tr>\n",
       "</tbody>\n",
       "</table>\n"
      ],
      "text/latex": [
       "A matrix: 5 × 5 of type dbl\n",
       "\\begin{tabular}{r|lllll}\n",
       "  & Price & Food & Decor & Service & East\\\\\n",
       "\\hline\n",
       "\tPrice & 1.000 & 0.627 & 0.724 & 0.641 & 0.187\\\\\n",
       "\tFood & 0.627 & 1.000 & 0.504 & 0.795 & 0.180\\\\\n",
       "\tDecor & 0.724 & 0.504 & 1.000 & 0.645 & 0.036\\\\\n",
       "\tService & 0.641 & 0.795 & 0.645 & 1.000 & 0.209\\\\\n",
       "\tEast & 0.187 & 0.180 & 0.036 & 0.209 & 1.000\\\\\n",
       "\\end{tabular}\n"
      ],
      "text/markdown": [
       "\n",
       "A matrix: 5 × 5 of type dbl\n",
       "\n",
       "| <!--/--> | Price | Food | Decor | Service | East |\n",
       "|---|---|---|---|---|---|\n",
       "| Price | 1.000 | 0.627 | 0.724 | 0.641 | 0.187 |\n",
       "| Food | 0.627 | 1.000 | 0.504 | 0.795 | 0.180 |\n",
       "| Decor | 0.724 | 0.504 | 1.000 | 0.645 | 0.036 |\n",
       "| Service | 0.641 | 0.795 | 0.645 | 1.000 | 0.209 |\n",
       "| East | 0.187 | 0.180 | 0.036 | 0.209 | 1.000 |\n",
       "\n"
      ],
      "text/plain": [
       "        Price Food  Decor Service East \n",
       "Price   1.000 0.627 0.724 0.641   0.187\n",
       "Food    0.627 1.000 0.504 0.795   0.180\n",
       "Decor   0.724 0.504 1.000 0.645   0.036\n",
       "Service 0.641 0.795 0.645 1.000   0.209\n",
       "East    0.187 0.180 0.036 0.209   1.000"
      ]
     },
     "metadata": {},
     "output_type": "display_data"
    }
   ],
   "source": [
    "round(cor(data),3)"
   ]
  },
  {
   "cell_type": "code",
   "execution_count": 11,
   "id": "corporate-brief",
   "metadata": {},
   "outputs": [
    {
     "data": {
      "text/plain": [
       "\n",
       "Call:\n",
       "lm(formula = Price ~ Food + Decor + Service + East, data = data)\n",
       "\n",
       "Residuals:\n",
       "     Min       1Q   Median       3Q      Max \n",
       "-14.0465  -3.8837   0.0373   3.3942  17.7491 \n",
       "\n",
       "Coefficients:\n",
       "              Estimate Std. Error t value Pr(>|t|)    \n",
       "(Intercept) -24.023800   4.708359  -5.102 9.24e-07 ***\n",
       "Food          1.538120   0.368951   4.169 4.96e-05 ***\n",
       "Decor         1.910087   0.217005   8.802 1.87e-15 ***\n",
       "Service      -0.002727   0.396232  -0.007   0.9945    \n",
       "East          2.068050   0.946739   2.184   0.0304 *  \n",
       "---\n",
       "Signif. codes:  0 '***' 0.001 '**' 0.01 '*' 0.05 '.' 0.1 ' ' 1\n",
       "\n",
       "Residual standard error: 5.738 on 163 degrees of freedom\n",
       "Multiple R-squared:  0.6279,\tAdjusted R-squared:  0.6187 \n",
       "F-statistic: 68.76 on 4 and 163 DF,  p-value: < 2.2e-16\n"
      ]
     },
     "metadata": {},
     "output_type": "display_data"
    }
   ],
   "source": [
    "regressor <- lm(formula = Price ~ Food + Decor + Service + East,\n",
    "  data = data)\n",
    "summary(regressor)"
   ]
  },
  {
   "cell_type": "code",
   "execution_count": 12,
   "id": "guilty-episode",
   "metadata": {},
   "outputs": [
    {
     "data": {
      "text/plain": [
       "\n",
       "Call:\n",
       "lm(formula = Price ~ Food + Decor + East, data = data)\n",
       "\n",
       "Residuals:\n",
       "     Min       1Q   Median       3Q      Max \n",
       "-14.0451  -3.8809   0.0389   3.3918  17.7557 \n",
       "\n",
       "Coefficients:\n",
       "            Estimate Std. Error t value Pr(>|t|)    \n",
       "(Intercept) -24.0269     4.6727  -5.142 7.67e-07 ***\n",
       "Food          1.5363     0.2632   5.838 2.76e-08 ***\n",
       "Decor         1.9094     0.1900  10.049  < 2e-16 ***\n",
       "East          2.0670     0.9318   2.218   0.0279 *  \n",
       "---\n",
       "Signif. codes:  0 '***' 0.001 '**' 0.01 '*' 0.05 '.' 0.1 ' ' 1\n",
       "\n",
       "Residual standard error: 5.72 on 164 degrees of freedom\n",
       "Multiple R-squared:  0.6279,\tAdjusted R-squared:  0.6211 \n",
       "F-statistic: 92.24 on 3 and 164 DF,  p-value: < 2.2e-16\n"
      ]
     },
     "metadata": {},
     "output_type": "display_data"
    }
   ],
   "source": [
    "regressor <- lm(formula = Price ~ Food + Decor + East,\n",
    "  data = data)\n",
    "summary(regressor)"
   ]
  }
 ],
 "metadata": {
  "kernelspec": {
   "display_name": "R",
   "language": "R",
   "name": "ir"
  },
  "language_info": {
   "codemirror_mode": "r",
   "file_extension": ".r",
   "mimetype": "text/x-r-source",
   "name": "R",
   "pygments_lexer": "r",
   "version": "4.0.4"
  }
 },
 "nbformat": 4,
 "nbformat_minor": 5
}
