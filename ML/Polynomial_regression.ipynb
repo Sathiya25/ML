{
 "cells": [
  {
   "cell_type": "code",
   "execution_count": 2,
   "id": "specified-manufacturer",
   "metadata": {},
   "outputs": [],
   "source": [
    "data <- read.csv(\"dataset/Position_Salaries.csv\")"
   ]
  },
  {
   "cell_type": "code",
   "execution_count": 3,
   "id": "accurate-divorce",
   "metadata": {
    "scrolled": true
   },
   "outputs": [
    {
     "data": {
      "text/html": [
       "<table class=\"dataframe\">\n",
       "<caption>A data.frame: 10 × 3</caption>\n",
       "<thead>\n",
       "\t<tr><th scope=col>Position</th><th scope=col>Level</th><th scope=col>Salary</th></tr>\n",
       "\t<tr><th scope=col>&lt;chr&gt;</th><th scope=col>&lt;int&gt;</th><th scope=col>&lt;int&gt;</th></tr>\n",
       "</thead>\n",
       "<tbody>\n",
       "\t<tr><td>Business Analyst </td><td> 1</td><td>  45000</td></tr>\n",
       "\t<tr><td>Junior Consultant</td><td> 2</td><td>  50000</td></tr>\n",
       "\t<tr><td>Senior Consultant</td><td> 3</td><td>  60000</td></tr>\n",
       "\t<tr><td>Manager          </td><td> 4</td><td>  80000</td></tr>\n",
       "\t<tr><td>Country Manager  </td><td> 5</td><td> 110000</td></tr>\n",
       "\t<tr><td>Region Manager   </td><td> 6</td><td> 150000</td></tr>\n",
       "\t<tr><td>Partner          </td><td> 7</td><td> 200000</td></tr>\n",
       "\t<tr><td>Senior Partner   </td><td> 8</td><td> 300000</td></tr>\n",
       "\t<tr><td>C-level          </td><td> 9</td><td> 500000</td></tr>\n",
       "\t<tr><td>CEO              </td><td>10</td><td>1000000</td></tr>\n",
       "</tbody>\n",
       "</table>\n"
      ],
      "text/latex": [
       "A data.frame: 10 × 3\n",
       "\\begin{tabular}{lll}\n",
       " Position & Level & Salary\\\\\n",
       " <chr> & <int> & <int>\\\\\n",
       "\\hline\n",
       "\t Business Analyst  &  1 &   45000\\\\\n",
       "\t Junior Consultant &  2 &   50000\\\\\n",
       "\t Senior Consultant &  3 &   60000\\\\\n",
       "\t Manager           &  4 &   80000\\\\\n",
       "\t Country Manager   &  5 &  110000\\\\\n",
       "\t Region Manager    &  6 &  150000\\\\\n",
       "\t Partner           &  7 &  200000\\\\\n",
       "\t Senior Partner    &  8 &  300000\\\\\n",
       "\t C-level           &  9 &  500000\\\\\n",
       "\t CEO               & 10 & 1000000\\\\\n",
       "\\end{tabular}\n"
      ],
      "text/markdown": [
       "\n",
       "A data.frame: 10 × 3\n",
       "\n",
       "| Position &lt;chr&gt; | Level &lt;int&gt; | Salary &lt;int&gt; |\n",
       "|---|---|---|\n",
       "| Business Analyst  |  1 |   45000 |\n",
       "| Junior Consultant |  2 |   50000 |\n",
       "| Senior Consultant |  3 |   60000 |\n",
       "| Manager           |  4 |   80000 |\n",
       "| Country Manager   |  5 |  110000 |\n",
       "| Region Manager    |  6 |  150000 |\n",
       "| Partner           |  7 |  200000 |\n",
       "| Senior Partner    |  8 |  300000 |\n",
       "| C-level           |  9 |  500000 |\n",
       "| CEO               | 10 | 1000000 |\n",
       "\n"
      ],
      "text/plain": [
       "   Position          Level Salary \n",
       "1  Business Analyst   1      45000\n",
       "2  Junior Consultant  2      50000\n",
       "3  Senior Consultant  3      60000\n",
       "4  Manager            4      80000\n",
       "5  Country Manager    5     110000\n",
       "6  Region Manager     6     150000\n",
       "7  Partner            7     200000\n",
       "8  Senior Partner     8     300000\n",
       "9  C-level            9     500000\n",
       "10 CEO               10    1000000"
      ]
     },
     "metadata": {},
     "output_type": "display_data"
    }
   ],
   "source": [
    "data"
   ]
  },
  {
   "cell_type": "code",
   "execution_count": 8,
   "id": "amateur-banana",
   "metadata": {},
   "outputs": [],
   "source": [
    "# Dependent and Independent from dataset\n",
    "data <- data[,1:2]\n",
    "# in R studio sir used\n",
    "# data <- data[,2:3]"
   ]
  },
  {
   "cell_type": "code",
   "execution_count": 10,
   "id": "obvious-brick",
   "metadata": {
    "scrolled": true
   },
   "outputs": [
    {
     "data": {
      "text/html": [
       "<table class=\"dataframe\">\n",
       "<caption>A data.frame: 10 × 2</caption>\n",
       "<thead>\n",
       "\t<tr><th scope=col>Level</th><th scope=col>Salary</th></tr>\n",
       "\t<tr><th scope=col>&lt;int&gt;</th><th scope=col>&lt;int&gt;</th></tr>\n",
       "</thead>\n",
       "<tbody>\n",
       "\t<tr><td> 1</td><td>  45000</td></tr>\n",
       "\t<tr><td> 2</td><td>  50000</td></tr>\n",
       "\t<tr><td> 3</td><td>  60000</td></tr>\n",
       "\t<tr><td> 4</td><td>  80000</td></tr>\n",
       "\t<tr><td> 5</td><td> 110000</td></tr>\n",
       "\t<tr><td> 6</td><td> 150000</td></tr>\n",
       "\t<tr><td> 7</td><td> 200000</td></tr>\n",
       "\t<tr><td> 8</td><td> 300000</td></tr>\n",
       "\t<tr><td> 9</td><td> 500000</td></tr>\n",
       "\t<tr><td>10</td><td>1000000</td></tr>\n",
       "</tbody>\n",
       "</table>\n"
      ],
      "text/latex": [
       "A data.frame: 10 × 2\n",
       "\\begin{tabular}{ll}\n",
       " Level & Salary\\\\\n",
       " <int> & <int>\\\\\n",
       "\\hline\n",
       "\t  1 &   45000\\\\\n",
       "\t  2 &   50000\\\\\n",
       "\t  3 &   60000\\\\\n",
       "\t  4 &   80000\\\\\n",
       "\t  5 &  110000\\\\\n",
       "\t  6 &  150000\\\\\n",
       "\t  7 &  200000\\\\\n",
       "\t  8 &  300000\\\\\n",
       "\t  9 &  500000\\\\\n",
       "\t 10 & 1000000\\\\\n",
       "\\end{tabular}\n"
      ],
      "text/markdown": [
       "\n",
       "A data.frame: 10 × 2\n",
       "\n",
       "| Level &lt;int&gt; | Salary &lt;int&gt; |\n",
       "|---|---|\n",
       "|  1 |   45000 |\n",
       "|  2 |   50000 |\n",
       "|  3 |   60000 |\n",
       "|  4 |   80000 |\n",
       "|  5 |  110000 |\n",
       "|  6 |  150000 |\n",
       "|  7 |  200000 |\n",
       "|  8 |  300000 |\n",
       "|  9 |  500000 |\n",
       "| 10 | 1000000 |\n",
       "\n"
      ],
      "text/plain": [
       "   Level Salary \n",
       "1   1      45000\n",
       "2   2      50000\n",
       "3   3      60000\n",
       "4   4      80000\n",
       "5   5     110000\n",
       "6   6     150000\n",
       "7   7     200000\n",
       "8   8     300000\n",
       "9   9     500000\n",
       "10 10    1000000"
      ]
     },
     "metadata": {},
     "output_type": "display_data"
    }
   ],
   "source": [
    "#level is Independent and Salary is Depended on Level which represents the Position\n",
    "data"
   ]
  },
  {
   "cell_type": "code",
   "execution_count": 12,
   "id": "vanilla-farmer",
   "metadata": {},
   "outputs": [
    {
     "data": {
      "image/png": "[encoded data removed]",
      "text/plain": [
       "plot without title"
      ]
     },
     "metadata": {
      "image/png": {
       "height": 420,
       "width": 420
      }
     },
     "output_type": "display_data"
    }
   ],
   "source": [
    "plot(data)"
   ]
  },
  {
   "cell_type": "code",
   "execution_count": 15,
   "id": "talented-involvement",
   "metadata": {},
   "outputs": [],
   "source": [
    "# Fitting linear regression to the data (lin-reg)\n",
    "lin_reg <- lm(formula = Salary ~ Level,\n",
    "  data = data)"
   ]
  },
  {
   "cell_type": "code",
   "execution_count": 17,
   "id": "dramatic-pasta",
   "metadata": {},
   "outputs": [
    {
     "data": {
      "text/plain": [
       "\n",
       "Call:\n",
       "lm(formula = Salary ~ Level, data = data)\n",
       "\n",
       "Residuals:\n",
       "    Min      1Q  Median      3Q     Max \n",
       "-170818 -129720  -40379   65856  386545 \n",
       "\n",
       "Coefficients:\n",
       "            Estimate Std. Error t value Pr(>|t|)   \n",
       "(Intercept)  -195333     124790  -1.565  0.15615   \n",
       "Level          80879      20112   4.021  0.00383 **\n",
       "---\n",
       "Signif. codes:  0 '***' 0.001 '**' 0.01 '*' 0.05 '.' 0.1 ' ' 1\n",
       "\n",
       "Residual standard error: 182700 on 8 degrees of freedom\n",
       "Multiple R-squared:  0.669,\tAdjusted R-squared:  0.6277 \n",
       "F-statistic: 16.17 on 1 and 8 DF,  p-value: 0.003833\n"
      ]
     },
     "metadata": {},
     "output_type": "display_data"
    }
   ],
   "source": [
    "summary(lin_reg)"
   ]
  },
  {
   "cell_type": "code",
   "execution_count": 19,
   "id": "capable-christmas",
   "metadata": {},
   "outputs": [
    {
     "ename": "ERROR",
     "evalue": "Error in int_abline(a = a, b = b, h = h, v = v, untf = untf, ...): plot.new has not been called yet\n",
     "output_type": "error",
     "traceback": [
      "Error in int_abline(a = a, b = b, h = h, v = v, untf = untf, ...): plot.new has not been called yet\nTraceback:\n",
      "1. abline(lin_reg)",
      "2. int_abline(a = a, b = b, h = h, v = v, untf = untf, ...)"
     ]
    }
   ],
   "source": [
    "abline(lin_reg)"
   ]
  },
  {
   "cell_type": "code",
   "execution_count": 30,
   "id": "smoking-universal",
   "metadata": {},
   "outputs": [
    {
     "data": {
      "text/plain": [
       "\n",
       "Call:\n",
       "lm(formula = Salary ~ Level, data = data)\n",
       "\n",
       "Residuals:\n",
       "    Min      1Q  Median      3Q     Max \n",
       "-170818 -129720  -40379   65856  386545 \n",
       "\n",
       "Coefficients:\n",
       "            Estimate Std. Error t value Pr(>|t|)   \n",
       "(Intercept)  -195333     124790  -1.565  0.15615   \n",
       "Level          80879      20112   4.021  0.00383 **\n",
       "---\n",
       "Signif. codes:  0 '***' 0.001 '**' 0.01 '*' 0.05 '.' 0.1 ' ' 1\n",
       "\n",
       "Residual standard error: 182700 on 8 degrees of freedom\n",
       "Multiple R-squared:  0.669,\tAdjusted R-squared:  0.6277 \n",
       "F-statistic: 16.17 on 1 and 8 DF,  p-value: 0.003833\n"
      ]
     },
     "metadata": {},
     "output_type": "display_data"
    }
   ],
   "source": [
    "# Fitting polynomial regression to the data (poly-reg) same as like simple lin_\n",
    "poly_reg <- lm(formula = Salary ~ Level,\n",
    "  data = data)\n",
    "summary(poly_reg)"
   ]
  },
  {
   "cell_type": "code",
   "execution_count": 24,
   "id": "short-tucson",
   "metadata": {},
   "outputs": [],
   "source": [
    "library(ggplot2)"
   ]
  },
  {
   "cell_type": "code",
   "execution_count": 26,
   "id": "fitted-acoustic",
   "metadata": {},
   "outputs": [
    {
     "data": {
      "image/png": "[encoded data removed]",
      "text/plain": [
       "plot without title"
      ]
     },
     "metadata": {
      "image/png": {
       "height": 420,
       "width": 420
      }
     },
     "output_type": "display_data"
    }
   ],
   "source": [
    "ggplot()+\n",
    "  geom_point(aes(x=data$Level, y = data$Salary), colour = 'red')+\n",
    "  geom_line(aes(x=data$Level, y= predict(object = poly_reg, \n",
    "                                            newdata = data)), color = 'blue')"
   ]
  },
  {
   "cell_type": "code",
   "execution_count": 29,
   "id": "changing-place",
   "metadata": {},
   "outputs": [
    {
     "data": {
      "text/html": [
       "<table class=\"dataframe\">\n",
       "<caption>A data.frame: 10 × 3</caption>\n",
       "<thead>\n",
       "\t<tr><th scope=col>Level</th><th scope=col>Salary</th><th scope=col>Level2</th></tr>\n",
       "\t<tr><th scope=col>&lt;int&gt;</th><th scope=col>&lt;int&gt;</th><th scope=col>&lt;dbl&gt;</th></tr>\n",
       "</thead>\n",
       "<tbody>\n",
       "\t<tr><td> 1</td><td>  45000</td><td>  1</td></tr>\n",
       "\t<tr><td> 2</td><td>  50000</td><td>  4</td></tr>\n",
       "\t<tr><td> 3</td><td>  60000</td><td>  9</td></tr>\n",
       "\t<tr><td> 4</td><td>  80000</td><td> 16</td></tr>\n",
       "\t<tr><td> 5</td><td> 110000</td><td> 25</td></tr>\n",
       "\t<tr><td> 6</td><td> 150000</td><td> 36</td></tr>\n",
       "\t<tr><td> 7</td><td> 200000</td><td> 49</td></tr>\n",
       "\t<tr><td> 8</td><td> 300000</td><td> 64</td></tr>\n",
       "\t<tr><td> 9</td><td> 500000</td><td> 81</td></tr>\n",
       "\t<tr><td>10</td><td>1000000</td><td>100</td></tr>\n",
       "</tbody>\n",
       "</table>\n"
      ],
      "text/latex": [
       "A data.frame: 10 × 3\n",
       "\\begin{tabular}{lll}\n",
       " Level & Salary & Level2\\\\\n",
       " <int> & <int> & <dbl>\\\\\n",
       "\\hline\n",
       "\t  1 &   45000 &   1\\\\\n",
       "\t  2 &   50000 &   4\\\\\n",
       "\t  3 &   60000 &   9\\\\\n",
       "\t  4 &   80000 &  16\\\\\n",
       "\t  5 &  110000 &  25\\\\\n",
       "\t  6 &  150000 &  36\\\\\n",
       "\t  7 &  200000 &  49\\\\\n",
       "\t  8 &  300000 &  64\\\\\n",
       "\t  9 &  500000 &  81\\\\\n",
       "\t 10 & 1000000 & 100\\\\\n",
       "\\end{tabular}\n"
      ],
      "text/markdown": [
       "\n",
       "A data.frame: 10 × 3\n",
       "\n",
       "| Level &lt;int&gt; | Salary &lt;int&gt; | Level2 &lt;dbl&gt; |\n",
       "|---|---|---|\n",
       "|  1 |   45000 |   1 |\n",
       "|  2 |   50000 |   4 |\n",
       "|  3 |   60000 |   9 |\n",
       "|  4 |   80000 |  16 |\n",
       "|  5 |  110000 |  25 |\n",
       "|  6 |  150000 |  36 |\n",
       "|  7 |  200000 |  49 |\n",
       "|  8 |  300000 |  64 |\n",
       "|  9 |  500000 |  81 |\n",
       "| 10 | 1000000 | 100 |\n",
       "\n"
      ],
      "text/plain": [
       "   Level Salary  Level2\n",
       "1   1      45000   1   \n",
       "2   2      50000   4   \n",
       "3   3      60000   9   \n",
       "4   4      80000  16   \n",
       "5   5     110000  25   \n",
       "6   6     150000  36   \n",
       "7   7     200000  49   \n",
       "8   8     300000  64   \n",
       "9   9     500000  81   \n",
       "10 10    1000000 100   "
      ]
     },
     "metadata": {},
     "output_type": "display_data"
    }
   ],
   "source": [
    "#fiiting Ploynomial Regression with extra x^2 data\n",
    "data$Level2  <- data$Level^2\n",
    "data"
   ]
  },
  {
   "cell_type": "code",
   "execution_count": 35,
   "id": "removable-robinson",
   "metadata": {},
   "outputs": [
    {
     "data": {
      "text/plain": [
       "\n",
       "Call:\n",
       "lm(formula = Salary ~ ., data = data)\n",
       "\n",
       "Residuals:\n",
       "    Min      1Q  Median      3Q     Max \n",
       "-112833  -68852   10682   55186  153364 \n",
       "\n",
       "Coefficients:\n",
       "            Estimate Std. Error t value Pr(>|t|)   \n",
       "(Intercept)   232167     115571   2.009  0.08451 . \n",
       "Level        -132871      48268  -2.753  0.02839 * \n",
       "Level2         19432       4276   4.544  0.00265 **\n",
       "---\n",
       "Signif. codes:  0 '***' 0.001 '**' 0.01 '*' 0.05 '.' 0.1 ' ' 1\n",
       "\n",
       "Residual standard error: 98260 on 7 degrees of freedom\n",
       "Multiple R-squared:  0.9162,\tAdjusted R-squared:  0.8923 \n",
       "F-statistic: 38.27 on 2 and 7 DF,  p-value: 0.0001703\n"
      ]
     },
     "metadata": {},
     "output_type": "display_data"
    }
   ],
   "source": [
    "poly_reg <- lm(formula = Salary ~ .,\n",
    "  data = data)\n",
    "summary(poly_reg)"
   ]
  },
  {
   "cell_type": "code",
   "execution_count": 36,
   "id": "static-present",
   "metadata": {},
   "outputs": [
    {
     "data": {
      "image/png": "[encoded data removed]",
      "text/plain": [
       "plot without title"
      ]
     },
     "metadata": {
      "image/png": {
       "height": 420,
       "width": 420
      }
     },
     "output_type": "display_data"
    }
   ],
   "source": [
    "ggplot()+\n",
    "  geom_point(aes(x=data$Level, y = data$Salary), colour = 'red')+\n",
    "  geom_line(aes(x=data$Level, y= predict(object = poly_reg, \n",
    "                                            newdata = data)), color = 'blue')"
   ]
  },
  {
   "cell_type": "code",
   "execution_count": 38,
   "id": "invisible-exhibit",
   "metadata": {},
   "outputs": [
    {
     "data": {
      "text/html": [
       "<table class=\"dataframe\">\n",
       "<caption>A data.frame: 10 × 4</caption>\n",
       "<thead>\n",
       "\t<tr><th scope=col>Level</th><th scope=col>Salary</th><th scope=col>Level2</th><th scope=col>Level3</th></tr>\n",
       "\t<tr><th scope=col>&lt;int&gt;</th><th scope=col>&lt;int&gt;</th><th scope=col>&lt;dbl&gt;</th><th scope=col>&lt;dbl&gt;</th></tr>\n",
       "</thead>\n",
       "<tbody>\n",
       "\t<tr><td> 1</td><td>  45000</td><td>  1</td><td>   1</td></tr>\n",
       "\t<tr><td> 2</td><td>  50000</td><td>  4</td><td>   8</td></tr>\n",
       "\t<tr><td> 3</td><td>  60000</td><td>  9</td><td>  27</td></tr>\n",
       "\t<tr><td> 4</td><td>  80000</td><td> 16</td><td>  64</td></tr>\n",
       "\t<tr><td> 5</td><td> 110000</td><td> 25</td><td> 125</td></tr>\n",
       "\t<tr><td> 6</td><td> 150000</td><td> 36</td><td> 216</td></tr>\n",
       "\t<tr><td> 7</td><td> 200000</td><td> 49</td><td> 343</td></tr>\n",
       "\t<tr><td> 8</td><td> 300000</td><td> 64</td><td> 512</td></tr>\n",
       "\t<tr><td> 9</td><td> 500000</td><td> 81</td><td> 729</td></tr>\n",
       "\t<tr><td>10</td><td>1000000</td><td>100</td><td>1000</td></tr>\n",
       "</tbody>\n",
       "</table>\n"
      ],
      "text/latex": [
       "A data.frame: 10 × 4\n",
       "\\begin{tabular}{llll}\n",
       " Level & Salary & Level2 & Level3\\\\\n",
       " <int> & <int> & <dbl> & <dbl>\\\\\n",
       "\\hline\n",
       "\t  1 &   45000 &   1 &    1\\\\\n",
       "\t  2 &   50000 &   4 &    8\\\\\n",
       "\t  3 &   60000 &   9 &   27\\\\\n",
       "\t  4 &   80000 &  16 &   64\\\\\n",
       "\t  5 &  110000 &  25 &  125\\\\\n",
       "\t  6 &  150000 &  36 &  216\\\\\n",
       "\t  7 &  200000 &  49 &  343\\\\\n",
       "\t  8 &  300000 &  64 &  512\\\\\n",
       "\t  9 &  500000 &  81 &  729\\\\\n",
       "\t 10 & 1000000 & 100 & 1000\\\\\n",
       "\\end{tabular}\n"
      ],
      "text/markdown": [
       "\n",
       "A data.frame: 10 × 4\n",
       "\n",
       "| Level &lt;int&gt; | Salary &lt;int&gt; | Level2 &lt;dbl&gt; | Level3 &lt;dbl&gt; |\n",
       "|---|---|---|---|\n",
       "|  1 |   45000 |   1 |    1 |\n",
       "|  2 |   50000 |   4 |    8 |\n",
       "|  3 |   60000 |   9 |   27 |\n",
       "|  4 |   80000 |  16 |   64 |\n",
       "|  5 |  110000 |  25 |  125 |\n",
       "|  6 |  150000 |  36 |  216 |\n",
       "|  7 |  200000 |  49 |  343 |\n",
       "|  8 |  300000 |  64 |  512 |\n",
       "|  9 |  500000 |  81 |  729 |\n",
       "| 10 | 1000000 | 100 | 1000 |\n",
       "\n"
      ],
      "text/plain": [
       "   Level Salary  Level2 Level3\n",
       "1   1      45000   1       1  \n",
       "2   2      50000   4       8  \n",
       "3   3      60000   9      27  \n",
       "4   4      80000  16      64  \n",
       "5   5     110000  25     125  \n",
       "6   6     150000  36     216  \n",
       "7   7     200000  49     343  \n",
       "8   8     300000  64     512  \n",
       "9   9     500000  81     729  \n",
       "10 10    1000000 100    1000  "
      ]
     },
     "metadata": {},
     "output_type": "display_data"
    }
   ],
   "source": [
    "#fiiting Ploynomial Regression with extra x^2 and x^3 data\n",
    "data$Level3  <- data$Level^3\n",
    "data"
   ]
  },
  {
   "cell_type": "code",
   "execution_count": 40,
   "id": "described-electronics",
   "metadata": {},
   "outputs": [
    {
     "data": {
      "text/plain": [
       "\n",
       "Call:\n",
       "lm(formula = Salary ~ ., data = data)\n",
       "\n",
       "Residuals:\n",
       "   Min     1Q Median     3Q    Max \n",
       "-75695 -28148   7091  29256  49538 \n",
       "\n",
       "Coefficients:\n",
       "             Estimate Std. Error t value Pr(>|t|)   \n",
       "(Intercept) -121333.3    97544.8  -1.244  0.25994   \n",
       "Level        180664.3    73114.5   2.471  0.04839 * \n",
       "Level2       -48549.0    15081.0  -3.219  0.01816 * \n",
       "Level3         4120.0      904.3   4.556  0.00387 **\n",
       "---\n",
       "Signif. codes:  0 '***' 0.001 '**' 0.01 '*' 0.05 '.' 0.1 ' ' 1\n",
       "\n",
       "Residual standard error: 50260 on 6 degrees of freedom\n",
       "Multiple R-squared:  0.9812,\tAdjusted R-squared:  0.9718 \n",
       "F-statistic: 104.4 on 3 and 6 DF,  p-value: 1.441e-05\n"
      ]
     },
     "metadata": {},
     "output_type": "display_data"
    }
   ],
   "source": [
    "poly_reg <- lm(formula = Salary ~ .,\n",
    "  data = data)\n",
    "summary(poly_reg)"
   ]
  },
  {
   "cell_type": "code",
   "execution_count": 42,
   "id": "flexible-import",
   "metadata": {},
   "outputs": [
    {
     "data": {
      "image/png": "[encoded data removed]",
      "text/plain": [
       "plot without title"
      ]
     },
     "metadata": {
      "image/png": {
       "height": 420,
       "width": 420
      }
     },
     "output_type": "display_data"
    }
   ],
   "source": [
    "ggplot()+\n",
    "  geom_point(aes(x=data$Level, y = data$Salary), colour = 'red')+\n",
    "  geom_line(aes(x=data$Level, y= predict(object = poly_reg, \n",
    "                                            newdata = data)), color = 'blue')"
   ]
  },
  {
   "cell_type": "code",
   "execution_count": 44,
   "id": "breeding-court",
   "metadata": {},
   "outputs": [
    {
     "data": {
      "text/html": [
       "<table class=\"dataframe\">\n",
       "<caption>A data.frame: 10 × 5</caption>\n",
       "<thead>\n",
       "\t<tr><th scope=col>Level</th><th scope=col>Salary</th><th scope=col>Level2</th><th scope=col>Level3</th><th scope=col>Level4</th></tr>\n",
       "\t<tr><th scope=col>&lt;int&gt;</th><th scope=col>&lt;int&gt;</th><th scope=col>&lt;dbl&gt;</th><th scope=col>&lt;dbl&gt;</th><th scope=col>&lt;dbl&gt;</th></tr>\n",
       "</thead>\n",
       "<tbody>\n",
       "\t<tr><td> 1</td><td>  45000</td><td>  1</td><td>   1</td><td>    1</td></tr>\n",
       "\t<tr><td> 2</td><td>  50000</td><td>  4</td><td>   8</td><td>   16</td></tr>\n",
       "\t<tr><td> 3</td><td>  60000</td><td>  9</td><td>  27</td><td>   81</td></tr>\n",
       "\t<tr><td> 4</td><td>  80000</td><td> 16</td><td>  64</td><td>  256</td></tr>\n",
       "\t<tr><td> 5</td><td> 110000</td><td> 25</td><td> 125</td><td>  625</td></tr>\n",
       "\t<tr><td> 6</td><td> 150000</td><td> 36</td><td> 216</td><td> 1296</td></tr>\n",
       "\t<tr><td> 7</td><td> 200000</td><td> 49</td><td> 343</td><td> 2401</td></tr>\n",
       "\t<tr><td> 8</td><td> 300000</td><td> 64</td><td> 512</td><td> 4096</td></tr>\n",
       "\t<tr><td> 9</td><td> 500000</td><td> 81</td><td> 729</td><td> 6561</td></tr>\n",
       "\t<tr><td>10</td><td>1000000</td><td>100</td><td>1000</td><td>10000</td></tr>\n",
       "</tbody>\n",
       "</table>\n"
      ],
      "text/latex": [
       "A data.frame: 10 × 5\n",
       "\\begin{tabular}{lllll}\n",
       " Level & Salary & Level2 & Level3 & Level4\\\\\n",
       " <int> & <int> & <dbl> & <dbl> & <dbl>\\\\\n",
       "\\hline\n",
       "\t  1 &   45000 &   1 &    1 &     1\\\\\n",
       "\t  2 &   50000 &   4 &    8 &    16\\\\\n",
       "\t  3 &   60000 &   9 &   27 &    81\\\\\n",
       "\t  4 &   80000 &  16 &   64 &   256\\\\\n",
       "\t  5 &  110000 &  25 &  125 &   625\\\\\n",
       "\t  6 &  150000 &  36 &  216 &  1296\\\\\n",
       "\t  7 &  200000 &  49 &  343 &  2401\\\\\n",
       "\t  8 &  300000 &  64 &  512 &  4096\\\\\n",
       "\t  9 &  500000 &  81 &  729 &  6561\\\\\n",
       "\t 10 & 1000000 & 100 & 1000 & 10000\\\\\n",
       "\\end{tabular}\n"
      ],
      "text/markdown": [
       "\n",
       "A data.frame: 10 × 5\n",
       "\n",
       "| Level &lt;int&gt; | Salary &lt;int&gt; | Level2 &lt;dbl&gt; | Level3 &lt;dbl&gt; | Level4 &lt;dbl&gt; |\n",
       "|---|---|---|---|---|\n",
       "|  1 |   45000 |   1 |    1 |     1 |\n",
       "|  2 |   50000 |   4 |    8 |    16 |\n",
       "|  3 |   60000 |   9 |   27 |    81 |\n",
       "|  4 |   80000 |  16 |   64 |   256 |\n",
       "|  5 |  110000 |  25 |  125 |   625 |\n",
       "|  6 |  150000 |  36 |  216 |  1296 |\n",
       "|  7 |  200000 |  49 |  343 |  2401 |\n",
       "|  8 |  300000 |  64 |  512 |  4096 |\n",
       "|  9 |  500000 |  81 |  729 |  6561 |\n",
       "| 10 | 1000000 | 100 | 1000 | 10000 |\n",
       "\n"
      ],
      "text/plain": [
       "   Level Salary  Level2 Level3 Level4\n",
       "1   1      45000   1       1       1 \n",
       "2   2      50000   4       8      16 \n",
       "3   3      60000   9      27      81 \n",
       "4   4      80000  16      64     256 \n",
       "5   5     110000  25     125     625 \n",
       "6   6     150000  36     216    1296 \n",
       "7   7     200000  49     343    2401 \n",
       "8   8     300000  64     512    4096 \n",
       "9   9     500000  81     729    6561 \n",
       "10 10    1000000 100    1000   10000 "
      ]
     },
     "metadata": {},
     "output_type": "display_data"
    }
   ],
   "source": [
    "#fiiting Ploynomial Regression with extra x^2 and x^3 data\n",
    "data$Level4  <- data$Level^4\n",
    "data"
   ]
  },
  {
   "cell_type": "code",
   "execution_count": 46,
   "id": "excited-pottery",
   "metadata": {},
   "outputs": [
    {
     "data": {
      "text/plain": [
       "\n",
       "Call:\n",
       "lm(formula = Salary ~ ., data = data)\n",
       "\n",
       "Residuals:\n",
       "     1      2      3      4      5      6      7      8      9     10 \n",
       " -8357  18240   1358 -14633 -11725   6725  15997  10006 -28695  11084 \n",
       "\n",
       "Coefficients:\n",
       "             Estimate Std. Error t value Pr(>|t|)   \n",
       "(Intercept)  184166.7    67768.0   2.718  0.04189 * \n",
       "Level       -211002.3    76382.2  -2.762  0.03972 * \n",
       "Level2        94765.4    26454.2   3.582  0.01584 * \n",
       "Level3       -15463.3     3535.0  -4.374  0.00719 **\n",
       "Level4          890.2      159.8   5.570  0.00257 **\n",
       "---\n",
       "Signif. codes:  0 '***' 0.001 '**' 0.01 '*' 0.05 '.' 0.1 ' ' 1\n",
       "\n",
       "Residual standard error: 20510 on 5 degrees of freedom\n",
       "Multiple R-squared:  0.9974,\tAdjusted R-squared:  0.9953 \n",
       "F-statistic: 478.1 on 4 and 5 DF,  p-value: 1.213e-06\n"
      ]
     },
     "metadata": {},
     "output_type": "display_data"
    }
   ],
   "source": [
    "poly_reg <- lm(formula = Salary ~ .,\n",
    "  data = data)\n",
    "summary(poly_reg)"
   ]
  },
  {
   "cell_type": "code",
   "execution_count": 49,
   "id": "oriented-large",
   "metadata": {},
   "outputs": [
    {
     "data": {
      "image/png": "[encoded data removed]",
      "text/plain": [
       "plot without title"
      ]
     },
     "metadata": {
      "image/png": {
       "height": 420,
       "width": 420
      }
     },
     "output_type": "display_data"
    }
   ],
   "source": [
    "ggplot()+\n",
    "  geom_point(aes(x=data$Level, y = data$Salary), colour = 'red')+\n",
    "  geom_line(aes(x=data$Level, y= predict(object = poly_reg, \n",
    "                                            newdata = data)), color = 'blue')"
   ]
  },
  {
   "cell_type": "code",
   "execution_count": 53,
   "id": "transparent-breast",
   "metadata": {},
   "outputs": [],
   "source": [
    "library(dplyr)"
   ]
  },
  {
   "cell_type": "code",
   "execution_count": 57,
   "id": "controlled-gather",
   "metadata": {},
   "outputs": [
    {
     "ename": "ERROR",
     "evalue": "Error in add(., b): could not find function \"add\"\n",
     "output_type": "error",
     "traceback": [
      "Error in add(., b): could not find function \"add\"\nTraceback:\n",
      "1. a %>% add(b)",
      "2. withVisible(eval(quote(`_fseq`(`_lhs`)), env, env))",
      "3. eval(quote(`_fseq`(`_lhs`)), env, env)",
      "4. eval(quote(`_fseq`(`_lhs`)), env, env)",
      "5. `_fseq`(`_lhs`)",
      "6. freduce(value, `_function_list`)",
      "7. withVisible(function_list[[k]](value))",
      "8. function_list[[k]](value)"
     ]
    }
   ],
   "source": [
    "a=c(10,3,4,5,6)\n",
    "b=c(20,3,9,5,78)\n",
    "a %>% add(b)"
   ]
  },
  {
   "cell_type": "code",
   "execution_count": 55,
   "id": "powered-timeline",
   "metadata": {},
   "outputs": [
    {
     "ename": "ERROR",
     "evalue": "Error in add(a, b): could not find function \"add\"\n",
     "output_type": "error",
     "traceback": [
      "Error in add(a, b): could not find function \"add\"\nTraceback:\n"
     ]
    }
   ],
   "source": [
    "add(a,b)"
   ]
  },
  {
   "cell_type": "code",
   "execution_count": null,
   "id": "recorded-piece",
   "metadata": {},
   "outputs": [],
   "source": [
    "# we got single star in the \"Intecept\" so it have Signficance\n",
    "#so it takes 4 levels to get Significance"
   ]
  }
 ],
 "metadata": {
  "kernelspec": {
   "display_name": "R",
   "language": "R",
   "name": "ir"
  },
  "language_info": {
   "codemirror_mode": "r",
   "file_extension": ".r",
   "mimetype": "text/x-r-source",
   "name": "R",
   "pygments_lexer": "r",
   "version": "4.0.5"
  }
 },
 "nbformat": 4,
 "nbformat_minor": 5
}
